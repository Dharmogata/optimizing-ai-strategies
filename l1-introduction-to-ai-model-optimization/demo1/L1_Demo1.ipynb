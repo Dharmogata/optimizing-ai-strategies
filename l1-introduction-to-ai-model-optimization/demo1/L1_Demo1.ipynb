{
 "cells": [
  {
   "cell_type": "code",
   "execution_count": 2,
   "id": "3fe0e141-52b4-4338-b3d8-895ef3126634",
   "metadata": {
    "execution": {
     "iopub.execute_input": "2024-08-28T20:45:07.312948Z",
     "iopub.status.busy": "2024-08-28T20:45:07.312521Z",
     "iopub.status.idle": "2024-08-28T20:45:07.528218Z",
     "shell.execute_reply": "2024-08-28T20:45:07.527624Z",
     "shell.execute_reply.started": "2024-08-28T20:45:07.312929Z"
    }
   },
   "outputs": [],
   "source": [
    "import pandas as pd"
   ]
  },
  {
   "cell_type": "markdown",
   "id": "7130afd4",
   "metadata": {},
   "source": [
    "Hey, welcome to ...\n",
    "In this demo we're gonna see some data cleaning/cleansing and preprocessing steps in practice.\n",
    "\n",
    "The data we're gonna be using is **median house prices for California districts derived from the 1990 census**. It's open source and widely used for educational purposes.  \n",
    "The original data is fairly clean. I've actually made some modifications to the data to make it less clean so that I can illustrate some issues you'll encounter with real-world data.\n",
    "\n",
    "It's really important to know the data and for that we need to read the documentation carefully.\n"
   ]
  },
  {
   "cell_type": "markdown",
   "id": "4318a6e6",
   "metadata": {},
   "source": [
    "1. `longitude`: A measure of how far west a house is; a higher value is farther west\n",
    "2. `latitude`: A measure of how far north a house is; a higher value is farther north\n",
    "3. `housing_median_age`: Median age of a house within a block; a lower number is a newer building\n",
    "4. `total_rooms`: Total number of rooms within a block\n",
    "5. `total_bedrooms`: Total number of bedrooms within a block\n",
    "6. `population`: Total number of people residing within a block\n",
    "7. `households`: Total number of households, a group of people residing within a home unit, for a block\n",
    "8. `median_income`: Median income for households within a block of houses (measured in tens of thousands of US Dollars)\n",
    "9. `median_house_value`: Median house value for households within a block (measured in US Dollars)\n",
    "10. `ocean_proximity`: Location of the house w.r.t ocean/sea\n"
   ]
  },
  {
   "cell_type": "markdown",
   "id": "2dbaf294",
   "metadata": {},
   "source": [
    "For illustration purposes, let's say we want to see if we can predict median house values from all the other data. So we can say `median_house_value` is our target and the other 9 columns are potential features. But we may or may not use all of them after we go thru feature selection.  \n",
    "For now let's load the data first.\n"
   ]
  },
  {
   "cell_type": "code",
   "execution_count": 3,
   "id": "7454b876",
   "metadata": {
    "execution": {
     "iopub.execute_input": "2024-08-28T20:45:07.529336Z",
     "iopub.status.busy": "2024-08-28T20:45:07.529137Z",
     "iopub.status.idle": "2024-08-28T20:45:07.545880Z",
     "shell.execute_reply": "2024-08-28T20:45:07.545277Z",
     "shell.execute_reply.started": "2024-08-28T20:45:07.529321Z"
    }
   },
   "outputs": [],
   "source": [
    "data = pd.read_csv(\"cali_housing_modified.csv\")"
   ]
  },
  {
   "cell_type": "code",
   "execution_count": 4,
   "id": "3b436346",
   "metadata": {
    "execution": {
     "iopub.execute_input": "2024-08-28T20:45:07.546743Z",
     "iopub.status.busy": "2024-08-28T20:45:07.546523Z",
     "iopub.status.idle": "2024-08-28T20:45:07.549451Z",
     "shell.execute_reply": "2024-08-28T20:45:07.548775Z",
     "shell.execute_reply.started": "2024-08-28T20:45:07.546727Z"
    }
   },
   "outputs": [],
   "source": [
    "# help(pd.read_csv)\n",
    "# pd.read_csv?\n",
    "# ?pd.read_csv"
   ]
  },
  {
   "cell_type": "markdown",
   "id": "1e379781",
   "metadata": {},
   "source": [
    "## Inspect the Data\n"
   ]
  },
  {
   "cell_type": "markdown",
   "id": "5fac7314",
   "metadata": {},
   "source": [
    "First thing we wanna do is inspect the data for some preliminary santiy checking and just to get an idea of what we're dealing with.\n"
   ]
  },
  {
   "cell_type": "code",
   "execution_count": 5,
   "id": "71598c1d",
   "metadata": {
    "execution": {
     "iopub.execute_input": "2024-08-28T20:45:07.550954Z",
     "iopub.status.busy": "2024-08-28T20:45:07.550577Z",
     "iopub.status.idle": "2024-08-28T20:45:07.556170Z",
     "shell.execute_reply": "2024-08-28T20:45:07.555585Z",
     "shell.execute_reply.started": "2024-08-28T20:45:07.550940Z"
    }
   },
   "outputs": [
    {
     "data": {
      "text/plain": [
       "(20646, 10)"
      ]
     },
     "execution_count": 5,
     "metadata": {},
     "output_type": "execute_result"
    }
   ],
   "source": [
    "data.shape"
   ]
  },
  {
   "cell_type": "markdown",
   "id": "7b126284",
   "metadata": {},
   "source": [
    "That matches our expectation of 10 columns. Also we now know that we have over 20,000 samples or examples.  \n",
    "The very first and easiest cleaning step is dropping duplicates which we always wanna do. We can see how many duplicated records we have using the, well, `.duplicated()` method:\n"
   ]
  },
  {
   "cell_type": "code",
   "execution_count": 6,
   "id": "c0d91104",
   "metadata": {
    "execution": {
     "iopub.execute_input": "2024-08-28T20:45:07.557219Z",
     "iopub.status.busy": "2024-08-28T20:45:07.557063Z",
     "iopub.status.idle": "2024-08-28T20:45:07.565596Z",
     "shell.execute_reply": "2024-08-28T20:45:07.564971Z",
     "shell.execute_reply.started": "2024-08-28T20:45:07.557205Z"
    }
   },
   "outputs": [
    {
     "data": {
      "text/plain": [
       "np.int64(6)"
      ]
     },
     "execution_count": 6,
     "metadata": {},
     "output_type": "execute_result"
    }
   ],
   "source": [
    "# get the number of duplicates\n",
    "data.duplicated().sum()"
   ]
  },
  {
   "cell_type": "markdown",
   "id": "50e93b73",
   "metadata": {},
   "source": [
    "Makes sense because I intentionally duplicated 6 rows for the purposes of this demo! Now let's remove them.\n"
   ]
  },
  {
   "cell_type": "code",
   "execution_count": 7,
   "id": "2be05e14",
   "metadata": {
    "execution": {
     "iopub.execute_input": "2024-08-28T20:45:07.566812Z",
     "iopub.status.busy": "2024-08-28T20:45:07.566323Z",
     "iopub.status.idle": "2024-08-28T20:45:07.576113Z",
     "shell.execute_reply": "2024-08-28T20:45:07.575457Z",
     "shell.execute_reply.started": "2024-08-28T20:45:07.566797Z"
    }
   },
   "outputs": [
    {
     "data": {
      "text/plain": [
       "(20640, 10)"
      ]
     },
     "execution_count": 7,
     "metadata": {},
     "output_type": "execute_result"
    }
   ],
   "source": [
    "# TODO: Say \"Don't forget the inplace=True or alternatively creat a new dataframe and assign it back to data\"\n",
    "data.drop_duplicates(inplace=True)  # or data = data.drop_duplicates()\n",
    "data.shape"
   ]
  },
  {
   "cell_type": "markdown",
   "id": "c2f2d7fb",
   "metadata": {},
   "source": [
    "Let's take a quick look at the first 10 records using `.head()`. We can use `.tail()` for the _last_ few rows.\n"
   ]
  },
  {
   "cell_type": "code",
   "execution_count": 8,
   "id": "fca0500c",
   "metadata": {
    "execution": {
     "iopub.execute_input": "2024-08-28T20:45:07.577093Z",
     "iopub.status.busy": "2024-08-28T20:45:07.576885Z",
     "iopub.status.idle": "2024-08-28T20:45:07.588448Z",
     "shell.execute_reply": "2024-08-28T20:45:07.587764Z",
     "shell.execute_reply.started": "2024-08-28T20:45:07.577075Z"
    }
   },
   "outputs": [
    {
     "data": {
      "text/html": [
       "<div>\n",
       "<style scoped>\n",
       "    .dataframe tbody tr th:only-of-type {\n",
       "        vertical-align: middle;\n",
       "    }\n",
       "\n",
       "    .dataframe tbody tr th {\n",
       "        vertical-align: top;\n",
       "    }\n",
       "\n",
       "    .dataframe thead th {\n",
       "        text-align: right;\n",
       "    }\n",
       "</style>\n",
       "<table border=\"1\" class=\"dataframe\">\n",
       "  <thead>\n",
       "    <tr style=\"text-align: right;\">\n",
       "      <th></th>\n",
       "      <th>longitude</th>\n",
       "      <th>latitude</th>\n",
       "      <th>housing_median_age</th>\n",
       "      <th>total_rooms</th>\n",
       "      <th>total_bedrooms</th>\n",
       "      <th>population</th>\n",
       "      <th>households</th>\n",
       "      <th>median_income</th>\n",
       "      <th>median_house_value</th>\n",
       "      <th>ocean_proximity</th>\n",
       "    </tr>\n",
       "  </thead>\n",
       "  <tbody>\n",
       "    <tr>\n",
       "      <th>0</th>\n",
       "      <td>-122.23</td>\n",
       "      <td>37.88</td>\n",
       "      <td>41</td>\n",
       "      <td>880</td>\n",
       "      <td>129.0</td>\n",
       "      <td>322</td>\n",
       "      <td>126</td>\n",
       "      <td>8.3252</td>\n",
       "      <td>$452,600</td>\n",
       "      <td>NEAR BAY</td>\n",
       "    </tr>\n",
       "    <tr>\n",
       "      <th>1</th>\n",
       "      <td>-122.22</td>\n",
       "      <td>37.86</td>\n",
       "      <td>21</td>\n",
       "      <td>7099</td>\n",
       "      <td>1106.0</td>\n",
       "      <td>2401</td>\n",
       "      <td>1138</td>\n",
       "      <td>8.3014</td>\n",
       "      <td>$358,500</td>\n",
       "      <td>NEAR BAY</td>\n",
       "    </tr>\n",
       "    <tr>\n",
       "      <th>2</th>\n",
       "      <td>-122.24</td>\n",
       "      <td>37.85</td>\n",
       "      <td>52</td>\n",
       "      <td>1467</td>\n",
       "      <td>190.0</td>\n",
       "      <td>496</td>\n",
       "      <td>177</td>\n",
       "      <td>7.2574</td>\n",
       "      <td>$352,100</td>\n",
       "      <td>NEAR BAY</td>\n",
       "    </tr>\n",
       "    <tr>\n",
       "      <th>3</th>\n",
       "      <td>-122.25</td>\n",
       "      <td>37.85</td>\n",
       "      <td>52</td>\n",
       "      <td>1274</td>\n",
       "      <td>235.0</td>\n",
       "      <td>558</td>\n",
       "      <td>219</td>\n",
       "      <td>5.6431</td>\n",
       "      <td>$341,300</td>\n",
       "      <td>NEAR BAY</td>\n",
       "    </tr>\n",
       "    <tr>\n",
       "      <th>4</th>\n",
       "      <td>-122.25</td>\n",
       "      <td>37.85</td>\n",
       "      <td>52</td>\n",
       "      <td>1627</td>\n",
       "      <td>280.0</td>\n",
       "      <td>565</td>\n",
       "      <td>259</td>\n",
       "      <td>3.8462</td>\n",
       "      <td>$342,200</td>\n",
       "      <td>NEAR BAY</td>\n",
       "    </tr>\n",
       "    <tr>\n",
       "      <th>5</th>\n",
       "      <td>-122.25</td>\n",
       "      <td>37.85</td>\n",
       "      <td>52</td>\n",
       "      <td>919</td>\n",
       "      <td>213.0</td>\n",
       "      <td>413</td>\n",
       "      <td>193</td>\n",
       "      <td>4.0368</td>\n",
       "      <td>$269,700</td>\n",
       "      <td>NEAR BAY</td>\n",
       "    </tr>\n",
       "    <tr>\n",
       "      <th>6</th>\n",
       "      <td>-122.25</td>\n",
       "      <td>37.84</td>\n",
       "      <td>52</td>\n",
       "      <td>2535</td>\n",
       "      <td>489.0</td>\n",
       "      <td>1094</td>\n",
       "      <td>514</td>\n",
       "      <td>3.6591</td>\n",
       "      <td>$299,200</td>\n",
       "      <td>NEAR BAY</td>\n",
       "    </tr>\n",
       "    <tr>\n",
       "      <th>7</th>\n",
       "      <td>-122.25</td>\n",
       "      <td>37.84</td>\n",
       "      <td>52</td>\n",
       "      <td>3104</td>\n",
       "      <td>687.0</td>\n",
       "      <td>1157</td>\n",
       "      <td>647</td>\n",
       "      <td>3.1200</td>\n",
       "      <td>$241,400</td>\n",
       "      <td>NEAR BAY</td>\n",
       "    </tr>\n",
       "    <tr>\n",
       "      <th>8</th>\n",
       "      <td>-122.26</td>\n",
       "      <td>37.84</td>\n",
       "      <td>42</td>\n",
       "      <td>2555</td>\n",
       "      <td>665.0</td>\n",
       "      <td>1206</td>\n",
       "      <td>595</td>\n",
       "      <td>2.0804</td>\n",
       "      <td>$226,700</td>\n",
       "      <td>NEAR BAY</td>\n",
       "    </tr>\n",
       "    <tr>\n",
       "      <th>9</th>\n",
       "      <td>-122.25</td>\n",
       "      <td>37.84</td>\n",
       "      <td>52</td>\n",
       "      <td>3549</td>\n",
       "      <td>707.0</td>\n",
       "      <td>1551</td>\n",
       "      <td>714</td>\n",
       "      <td>3.6912</td>\n",
       "      <td>$261,100</td>\n",
       "      <td>NEAR BAY</td>\n",
       "    </tr>\n",
       "  </tbody>\n",
       "</table>\n",
       "</div>"
      ],
      "text/plain": [
       "   longitude  latitude  housing_median_age  total_rooms  total_bedrooms  \\\n",
       "0    -122.23     37.88                  41          880           129.0   \n",
       "1    -122.22     37.86                  21         7099          1106.0   \n",
       "2    -122.24     37.85                  52         1467           190.0   \n",
       "3    -122.25     37.85                  52         1274           235.0   \n",
       "4    -122.25     37.85                  52         1627           280.0   \n",
       "5    -122.25     37.85                  52          919           213.0   \n",
       "6    -122.25     37.84                  52         2535           489.0   \n",
       "7    -122.25     37.84                  52         3104           687.0   \n",
       "8    -122.26     37.84                  42         2555           665.0   \n",
       "9    -122.25     37.84                  52         3549           707.0   \n",
       "\n",
       "   population households  median_income median_house_value ocean_proximity  \n",
       "0         322        126         8.3252           $452,600        NEAR BAY  \n",
       "1        2401       1138         8.3014           $358,500        NEAR BAY  \n",
       "2         496        177         7.2574           $352,100        NEAR BAY  \n",
       "3         558        219         5.6431           $341,300        NEAR BAY  \n",
       "4         565        259         3.8462           $342,200        NEAR BAY  \n",
       "5         413        193         4.0368           $269,700        NEAR BAY  \n",
       "6        1094        514         3.6591           $299,200        NEAR BAY  \n",
       "7        1157        647         3.1200           $241,400        NEAR BAY  \n",
       "8        1206        595         2.0804           $226,700        NEAR BAY  \n",
       "9        1551        714         3.6912           $261,100        NEAR BAY  "
      ]
     },
     "execution_count": 8,
     "metadata": {},
     "output_type": "execute_result"
    }
   ],
   "source": [
    "data.head(10)"
   ]
  },
  {
   "cell_type": "markdown",
   "id": "d3adad48",
   "metadata": {},
   "source": [
    "Right off the bat we see a potential issue. Can you spot it? The median house values are formatted in dollars. So we'll have to convert them to numbers. In fact even when we try to get some basic statistics on the data we see this column is missing because pandas doesn't know how to calculate statistics on strings!\n"
   ]
  },
  {
   "cell_type": "code",
   "execution_count": 9,
   "id": "97a63dac",
   "metadata": {
    "execution": {
     "iopub.execute_input": "2024-08-28T20:45:07.589346Z",
     "iopub.status.busy": "2024-08-28T20:45:07.589172Z",
     "iopub.status.idle": "2024-08-28T20:45:07.607498Z",
     "shell.execute_reply": "2024-08-28T20:45:07.606771Z",
     "shell.execute_reply.started": "2024-08-28T20:45:07.589331Z"
    }
   },
   "outputs": [
    {
     "data": {
      "text/html": [
       "<div>\n",
       "<style scoped>\n",
       "    .dataframe tbody tr th:only-of-type {\n",
       "        vertical-align: middle;\n",
       "    }\n",
       "\n",
       "    .dataframe tbody tr th {\n",
       "        vertical-align: top;\n",
       "    }\n",
       "\n",
       "    .dataframe thead th {\n",
       "        text-align: right;\n",
       "    }\n",
       "</style>\n",
       "<table border=\"1\" class=\"dataframe\">\n",
       "  <thead>\n",
       "    <tr style=\"text-align: right;\">\n",
       "      <th></th>\n",
       "      <th>longitude</th>\n",
       "      <th>latitude</th>\n",
       "      <th>housing_median_age</th>\n",
       "      <th>total_rooms</th>\n",
       "      <th>total_bedrooms</th>\n",
       "      <th>population</th>\n",
       "      <th>median_income</th>\n",
       "    </tr>\n",
       "  </thead>\n",
       "  <tbody>\n",
       "    <tr>\n",
       "      <th>count</th>\n",
       "      <td>20640.000000</td>\n",
       "      <td>20640.000000</td>\n",
       "      <td>20640.000000</td>\n",
       "      <td>20640.000000</td>\n",
       "      <td>20433.000000</td>\n",
       "      <td>20640.000000</td>\n",
       "      <td>20640.000000</td>\n",
       "    </tr>\n",
       "    <tr>\n",
       "      <th>mean</th>\n",
       "      <td>-119.569704</td>\n",
       "      <td>35.631861</td>\n",
       "      <td>28.639486</td>\n",
       "      <td>2635.763081</td>\n",
       "      <td>537.870553</td>\n",
       "      <td>1425.476744</td>\n",
       "      <td>3.870671</td>\n",
       "    </tr>\n",
       "    <tr>\n",
       "      <th>std</th>\n",
       "      <td>2.003532</td>\n",
       "      <td>2.135952</td>\n",
       "      <td>12.585558</td>\n",
       "      <td>2181.615252</td>\n",
       "      <td>421.385070</td>\n",
       "      <td>1132.462122</td>\n",
       "      <td>1.899822</td>\n",
       "    </tr>\n",
       "    <tr>\n",
       "      <th>min</th>\n",
       "      <td>-124.350000</td>\n",
       "      <td>32.540000</td>\n",
       "      <td>1.000000</td>\n",
       "      <td>2.000000</td>\n",
       "      <td>1.000000</td>\n",
       "      <td>3.000000</td>\n",
       "      <td>0.499900</td>\n",
       "    </tr>\n",
       "    <tr>\n",
       "      <th>25%</th>\n",
       "      <td>-121.800000</td>\n",
       "      <td>33.930000</td>\n",
       "      <td>18.000000</td>\n",
       "      <td>1447.750000</td>\n",
       "      <td>296.000000</td>\n",
       "      <td>787.000000</td>\n",
       "      <td>2.563400</td>\n",
       "    </tr>\n",
       "    <tr>\n",
       "      <th>50%</th>\n",
       "      <td>-118.490000</td>\n",
       "      <td>34.260000</td>\n",
       "      <td>29.000000</td>\n",
       "      <td>2127.000000</td>\n",
       "      <td>435.000000</td>\n",
       "      <td>1166.000000</td>\n",
       "      <td>3.534800</td>\n",
       "    </tr>\n",
       "    <tr>\n",
       "      <th>75%</th>\n",
       "      <td>-118.010000</td>\n",
       "      <td>37.710000</td>\n",
       "      <td>37.000000</td>\n",
       "      <td>3148.000000</td>\n",
       "      <td>647.000000</td>\n",
       "      <td>1725.000000</td>\n",
       "      <td>4.743250</td>\n",
       "    </tr>\n",
       "    <tr>\n",
       "      <th>max</th>\n",
       "      <td>-114.310000</td>\n",
       "      <td>41.950000</td>\n",
       "      <td>52.000000</td>\n",
       "      <td>39320.000000</td>\n",
       "      <td>6445.000000</td>\n",
       "      <td>35682.000000</td>\n",
       "      <td>15.000100</td>\n",
       "    </tr>\n",
       "  </tbody>\n",
       "</table>\n",
       "</div>"
      ],
      "text/plain": [
       "          longitude      latitude  housing_median_age   total_rooms  \\\n",
       "count  20640.000000  20640.000000        20640.000000  20640.000000   \n",
       "mean    -119.569704     35.631861           28.639486   2635.763081   \n",
       "std        2.003532      2.135952           12.585558   2181.615252   \n",
       "min     -124.350000     32.540000            1.000000      2.000000   \n",
       "25%     -121.800000     33.930000           18.000000   1447.750000   \n",
       "50%     -118.490000     34.260000           29.000000   2127.000000   \n",
       "75%     -118.010000     37.710000           37.000000   3148.000000   \n",
       "max     -114.310000     41.950000           52.000000  39320.000000   \n",
       "\n",
       "       total_bedrooms    population  median_income  \n",
       "count    20433.000000  20640.000000   20640.000000  \n",
       "mean       537.870553   1425.476744       3.870671  \n",
       "std        421.385070   1132.462122       1.899822  \n",
       "min          1.000000      3.000000       0.499900  \n",
       "25%        296.000000    787.000000       2.563400  \n",
       "50%        435.000000   1166.000000       3.534800  \n",
       "75%        647.000000   1725.000000       4.743250  \n",
       "max       6445.000000  35682.000000      15.000100  "
      ]
     },
     "execution_count": 9,
     "metadata": {},
     "output_type": "execute_result"
    }
   ],
   "source": [
    "data.describe()"
   ]
  },
  {
   "cell_type": "markdown",
   "id": "90c06576",
   "metadata": {},
   "source": [
    "This is a very common issue especially with dates for example, where you might be getting data from a source that uses a different datetime format and you end up having to do some data wrangling to get them in the right format.  \n",
    "Btw another good way to check the format or types of data is using the dtypes property:\n"
   ]
  },
  {
   "cell_type": "code",
   "execution_count": 10,
   "id": "6016aa90",
   "metadata": {
    "execution": {
     "iopub.execute_input": "2024-08-28T20:45:07.608593Z",
     "iopub.status.busy": "2024-08-28T20:45:07.608269Z",
     "iopub.status.idle": "2024-08-28T20:45:07.613561Z",
     "shell.execute_reply": "2024-08-28T20:45:07.612870Z",
     "shell.execute_reply.started": "2024-08-28T20:45:07.608575Z"
    }
   },
   "outputs": [
    {
     "data": {
      "text/plain": [
       "longitude             float64\n",
       "latitude              float64\n",
       "housing_median_age      int64\n",
       "total_rooms             int64\n",
       "total_bedrooms        float64\n",
       "population              int64\n",
       "households             object\n",
       "median_income         float64\n",
       "median_house_value     object\n",
       "ocean_proximity        object\n",
       "dtype: object"
      ]
     },
     "execution_count": 10,
     "metadata": {},
     "output_type": "execute_result"
    }
   ],
   "source": [
    "data.dtypes"
   ]
  },
  {
   "cell_type": "markdown",
   "id": "889d1775",
   "metadata": {},
   "source": [
    "Whenever you see `object` that means the column is in a non-numerical format. We generally want some variant of `int` or `float` or `datetime`.  \n",
    "Here we see potential issues in households, median_house_value, and ocean_proximity.  \n",
    "Ocean proximity is a categorical feature and we'll talk about it in another demo where we discuss feature engineering. But let's get back to cleaning the other two.  \n",
    "We know what's going on with median_house_value, so let's just fix it.\n"
   ]
  },
  {
   "cell_type": "code",
   "execution_count": 11,
   "id": "507f4383",
   "metadata": {
    "execution": {
     "iopub.execute_input": "2024-08-28T20:45:07.616524Z",
     "iopub.status.busy": "2024-08-28T20:45:07.616141Z",
     "iopub.status.idle": "2024-08-28T20:45:07.630043Z",
     "shell.execute_reply": "2024-08-28T20:45:07.629326Z",
     "shell.execute_reply.started": "2024-08-28T20:45:07.616506Z"
    }
   },
   "outputs": [],
   "source": [
    "# Convert median_house_value from currency to float (remove $ and ,)\n",
    "data[\"median_house_value\"] = data[\"median_house_value\"].str.replace(\",\", \"\")\n",
    "data[\"median_house_value\"] = data[\"median_house_value\"].str.replace(\"$\", \"\")\n",
    "data[\"median_house_value\"] = data[\"median_house_value\"].astype(float)\n",
    "# Or in one line:\n",
    "# data['median_house_value'] = data['median_house_value'].str.replace(',', '').str.replace('$', '').astype(float)"
   ]
  },
  {
   "cell_type": "markdown",
   "id": "b249e3ec",
   "metadata": {},
   "source": [
    "And now if we look at the column it should be a number. This time I'm going to use a different method, the .info() method, which ourputs more details than dtypes:\n"
   ]
  },
  {
   "cell_type": "code",
   "execution_count": 12,
   "id": "1cae703e",
   "metadata": {
    "execution": {
     "iopub.execute_input": "2024-08-28T20:45:07.631141Z",
     "iopub.status.busy": "2024-08-28T20:45:07.630823Z",
     "iopub.status.idle": "2024-08-28T20:45:07.640756Z",
     "shell.execute_reply": "2024-08-28T20:45:07.639932Z",
     "shell.execute_reply.started": "2024-08-28T20:45:07.631124Z"
    }
   },
   "outputs": [
    {
     "name": "stdout",
     "output_type": "stream",
     "text": [
      "<class 'pandas.core.frame.DataFrame'>\n",
      "Index: 20640 entries, 0 to 20645\n",
      "Data columns (total 10 columns):\n",
      " #   Column              Non-Null Count  Dtype  \n",
      "---  ------              --------------  -----  \n",
      " 0   longitude           20640 non-null  float64\n",
      " 1   latitude            20640 non-null  float64\n",
      " 2   housing_median_age  20640 non-null  int64  \n",
      " 3   total_rooms         20640 non-null  int64  \n",
      " 4   total_bedrooms      20433 non-null  float64\n",
      " 5   population          20640 non-null  int64  \n",
      " 6   households          20640 non-null  object \n",
      " 7   median_income       20640 non-null  float64\n",
      " 8   median_house_value  20640 non-null  float64\n",
      " 9   ocean_proximity     20640 non-null  object \n",
      "dtypes: float64(5), int64(3), object(2)\n",
      "memory usage: 1.7+ MB\n"
     ]
    }
   ],
   "source": [
    "data.info()"
   ]
  },
  {
   "cell_type": "markdown",
   "id": "6db0421f",
   "metadata": {},
   "source": [
    "And sure enough, median house value is now a number. We can take a look at it with `.describe()` again just to make sure it was converted correctly.\n"
   ]
  },
  {
   "cell_type": "code",
   "execution_count": 13,
   "id": "0d9a0962",
   "metadata": {
    "execution": {
     "iopub.execute_input": "2024-08-28T20:45:07.642092Z",
     "iopub.status.busy": "2024-08-28T20:45:07.641908Z",
     "iopub.status.idle": "2024-08-28T20:45:07.648725Z",
     "shell.execute_reply": "2024-08-28T20:45:07.648105Z",
     "shell.execute_reply.started": "2024-08-28T20:45:07.642075Z"
    }
   },
   "outputs": [
    {
     "data": {
      "text/plain": [
       "count     20640.000000\n",
       "mean     206855.816909\n",
       "std      115395.615874\n",
       "min       14999.000000\n",
       "25%      119600.000000\n",
       "50%      179700.000000\n",
       "75%      264725.000000\n",
       "max      500001.000000\n",
       "Name: median_house_value, dtype: float64"
      ]
     },
     "execution_count": 13,
     "metadata": {},
     "output_type": "execute_result"
    }
   ],
   "source": [
    "data[\n",
    "    \"median_house_value\"\n",
    "].describe()  # or `data.median_house_value.describe()` because the column name has no spaces"
   ]
  },
  {
   "cell_type": "markdown",
   "id": "477fd334",
   "metadata": {},
   "source": [
    "It looks reasonable. Now let's focus on `households`. When we looked at the top few rows it looked fine. So what could be the problem? Let's check which rows in this column are not numbers:\n"
   ]
  },
  {
   "cell_type": "code",
   "execution_count": 14,
   "id": "ef57b52b",
   "metadata": {
    "execution": {
     "iopub.execute_input": "2024-08-28T20:45:07.649914Z",
     "iopub.status.busy": "2024-08-28T20:45:07.649538Z",
     "iopub.status.idle": "2024-08-28T20:45:07.661318Z",
     "shell.execute_reply": "2024-08-28T20:45:07.660625Z",
     "shell.execute_reply.started": "2024-08-28T20:45:07.649896Z"
    }
   },
   "outputs": [
    {
     "data": {
      "text/html": [
       "<div>\n",
       "<style scoped>\n",
       "    .dataframe tbody tr th:only-of-type {\n",
       "        vertical-align: middle;\n",
       "    }\n",
       "\n",
       "    .dataframe tbody tr th {\n",
       "        vertical-align: top;\n",
       "    }\n",
       "\n",
       "    .dataframe thead th {\n",
       "        text-align: right;\n",
       "    }\n",
       "</style>\n",
       "<table border=\"1\" class=\"dataframe\">\n",
       "  <thead>\n",
       "    <tr style=\"text-align: right;\">\n",
       "      <th></th>\n",
       "      <th>longitude</th>\n",
       "      <th>latitude</th>\n",
       "      <th>housing_median_age</th>\n",
       "      <th>total_rooms</th>\n",
       "      <th>total_bedrooms</th>\n",
       "      <th>population</th>\n",
       "      <th>households</th>\n",
       "      <th>median_income</th>\n",
       "      <th>median_house_value</th>\n",
       "      <th>ocean_proximity</th>\n",
       "    </tr>\n",
       "  </thead>\n",
       "  <tbody>\n",
       "    <tr>\n",
       "      <th>18</th>\n",
       "      <td>-122.26</td>\n",
       "      <td>37.84</td>\n",
       "      <td>50</td>\n",
       "      <td>2239</td>\n",
       "      <td>455.0</td>\n",
       "      <td>990</td>\n",
       "      <td>Unknown</td>\n",
       "      <td>1.9911</td>\n",
       "      <td>158700.0</td>\n",
       "      <td>NEAR BAY</td>\n",
       "    </tr>\n",
       "  </tbody>\n",
       "</table>\n",
       "</div>"
      ],
      "text/plain": [
       "    longitude  latitude  housing_median_age  total_rooms  total_bedrooms  \\\n",
       "18    -122.26     37.84                  50         2239           455.0   \n",
       "\n",
       "    population households  median_income  median_house_value ocean_proximity  \n",
       "18         990    Unknown         1.9911            158700.0        NEAR BAY  "
      ]
     },
     "execution_count": 14,
     "metadata": {},
     "output_type": "execute_result"
    }
   ],
   "source": [
    "# TODO: Explain the code below\n",
    "data[~data[\"households\"].str.isnumeric()]"
   ]
  },
  {
   "cell_type": "markdown",
   "id": "75ef2bf5",
   "metadata": {},
   "source": [
    "Pandas automatically interprets some strings like \"NaN\", \"Na\" and blank strings as missing values. But here I manually changed the value in one row to the string `Unknown` to demonstrate the point that missing values can come in all shapes and forms.  \n",
    "So what do we do with our missing value here? The answer really depends on domain knowledge. In practice, one missing row out of 20k is not really a big deal so we could just drop the one row.\n"
   ]
  },
  {
   "cell_type": "code",
   "execution_count": 15,
   "id": "134868ef",
   "metadata": {
    "execution": {
     "iopub.execute_input": "2024-08-28T20:45:07.662707Z",
     "iopub.status.busy": "2024-08-28T20:45:07.662182Z",
     "iopub.status.idle": "2024-08-28T20:45:07.669916Z",
     "shell.execute_reply": "2024-08-28T20:45:07.669181Z",
     "shell.execute_reply.started": "2024-08-28T20:45:07.662689Z"
    }
   },
   "outputs": [],
   "source": [
    "# There are many ways to do this of course, but here's one:\n",
    "data = data[data[\"households\"].str.isnumeric()]\n",
    "data[\"households\"] = data[\"households\"].astype(int)"
   ]
  },
  {
   "cell_type": "markdown",
   "id": "ba4a7e0c",
   "metadata": {},
   "source": [
    "Or after thinking about it, we might decide hey, the number of households in a district really has nothing to do with house prices in that district, in which case we'd to get rid of the _column_ altogether.  \n",
    "Also if we had a _lot_ more data missing in the column and didn't have enough information to impute them confidently.\n"
   ]
  },
  {
   "cell_type": "code",
   "execution_count": 16,
   "id": "46946c60",
   "metadata": {
    "execution": {
     "iopub.execute_input": "2024-08-28T20:45:07.670916Z",
     "iopub.status.busy": "2024-08-28T20:45:07.670717Z",
     "iopub.status.idle": "2024-08-28T20:45:07.676822Z",
     "shell.execute_reply": "2024-08-28T20:45:07.676083Z",
     "shell.execute_reply.started": "2024-08-28T20:45:07.670901Z"
    }
   },
   "outputs": [
    {
     "data": {
      "text/plain": [
       "Index(['longitude', 'latitude', 'housing_median_age', 'total_rooms',\n",
       "       'total_bedrooms', 'population', 'median_income', 'median_house_value',\n",
       "       'ocean_proximity'],\n",
       "      dtype='object')"
      ]
     },
     "execution_count": 16,
     "metadata": {},
     "output_type": "execute_result"
    }
   ],
   "source": [
    "data_without_households = data.drop(\n",
    "    columns=[\"households\"]\n",
    ")  # or data.drop(columns=['households'], inplace=True)\n",
    "data_without_households.columns"
   ]
  },
  {
   "cell_type": "markdown",
   "id": "5861cb0b",
   "metadata": {},
   "source": [
    "But speaking of missing values: did you notice something earlier when we used `.info()`? (**scroll up**)  \n",
    "Looks like one of our columns has fewer non-null records than the others. Let's take a closer look with a dedicated method...\n"
   ]
  },
  {
   "cell_type": "code",
   "execution_count": 17,
   "id": "3d1fba3f",
   "metadata": {
    "execution": {
     "iopub.execute_input": "2024-08-28T20:45:07.678003Z",
     "iopub.status.busy": "2024-08-28T20:45:07.677576Z",
     "iopub.status.idle": "2024-08-28T20:45:07.684141Z",
     "shell.execute_reply": "2024-08-28T20:45:07.683383Z",
     "shell.execute_reply.started": "2024-08-28T20:45:07.677985Z"
    }
   },
   "outputs": [
    {
     "data": {
      "text/plain": [
       "longitude               0\n",
       "latitude                0\n",
       "housing_median_age      0\n",
       "total_rooms             0\n",
       "total_bedrooms        207\n",
       "population              0\n",
       "households              0\n",
       "median_income           0\n",
       "median_house_value      0\n",
       "ocean_proximity         0\n",
       "dtype: int64"
      ]
     },
     "execution_count": 17,
     "metadata": {},
     "output_type": "execute_result"
    }
   ],
   "source": [
    "data.isna().sum()  # or data.isnull().sum()"
   ]
  },
  {
   "cell_type": "markdown",
   "id": "beaefe12",
   "metadata": {},
   "source": [
    "Looks like we have 207 rows that are missing values for total_bedrooms. Can we replace them with zeros? Definitely not! First of all these are districts, not individual houses. It's very unlikely that a whole district has no bedrooms! And indeed if we take a peek...\n"
   ]
  },
  {
   "cell_type": "code",
   "execution_count": 18,
   "id": "7ccceea6",
   "metadata": {
    "execution": {
     "iopub.execute_input": "2024-08-28T20:45:07.685491Z",
     "iopub.status.busy": "2024-08-28T20:45:07.685140Z",
     "iopub.status.idle": "2024-08-28T20:45:07.696543Z",
     "shell.execute_reply": "2024-08-28T20:45:07.695947Z",
     "shell.execute_reply.started": "2024-08-28T20:45:07.685473Z"
    }
   },
   "outputs": [
    {
     "data": {
      "text/html": [
       "<div>\n",
       "<style scoped>\n",
       "    .dataframe tbody tr th:only-of-type {\n",
       "        vertical-align: middle;\n",
       "    }\n",
       "\n",
       "    .dataframe tbody tr th {\n",
       "        vertical-align: top;\n",
       "    }\n",
       "\n",
       "    .dataframe thead th {\n",
       "        text-align: right;\n",
       "    }\n",
       "</style>\n",
       "<table border=\"1\" class=\"dataframe\">\n",
       "  <thead>\n",
       "    <tr style=\"text-align: right;\">\n",
       "      <th></th>\n",
       "      <th>longitude</th>\n",
       "      <th>latitude</th>\n",
       "      <th>housing_median_age</th>\n",
       "      <th>total_rooms</th>\n",
       "      <th>total_bedrooms</th>\n",
       "      <th>population</th>\n",
       "      <th>households</th>\n",
       "      <th>median_income</th>\n",
       "      <th>median_house_value</th>\n",
       "      <th>ocean_proximity</th>\n",
       "    </tr>\n",
       "  </thead>\n",
       "  <tbody>\n",
       "    <tr>\n",
       "      <th>291</th>\n",
       "      <td>-122.16</td>\n",
       "      <td>37.77</td>\n",
       "      <td>47</td>\n",
       "      <td>1256</td>\n",
       "      <td>NaN</td>\n",
       "      <td>570</td>\n",
       "      <td>218</td>\n",
       "      <td>4.3750</td>\n",
       "      <td>161900.0</td>\n",
       "      <td>NEAR BAY</td>\n",
       "    </tr>\n",
       "    <tr>\n",
       "      <th>342</th>\n",
       "      <td>-122.17</td>\n",
       "      <td>37.75</td>\n",
       "      <td>38</td>\n",
       "      <td>992</td>\n",
       "      <td>NaN</td>\n",
       "      <td>732</td>\n",
       "      <td>259</td>\n",
       "      <td>1.6196</td>\n",
       "      <td>85100.0</td>\n",
       "      <td>NEAR BAY</td>\n",
       "    </tr>\n",
       "    <tr>\n",
       "      <th>539</th>\n",
       "      <td>-122.28</td>\n",
       "      <td>37.78</td>\n",
       "      <td>29</td>\n",
       "      <td>5154</td>\n",
       "      <td>NaN</td>\n",
       "      <td>3741</td>\n",
       "      <td>1273</td>\n",
       "      <td>2.5762</td>\n",
       "      <td>173400.0</td>\n",
       "      <td>NEAR BAY</td>\n",
       "    </tr>\n",
       "    <tr>\n",
       "      <th>564</th>\n",
       "      <td>-122.24</td>\n",
       "      <td>37.75</td>\n",
       "      <td>45</td>\n",
       "      <td>891</td>\n",
       "      <td>NaN</td>\n",
       "      <td>384</td>\n",
       "      <td>146</td>\n",
       "      <td>4.9489</td>\n",
       "      <td>247100.0</td>\n",
       "      <td>NEAR BAY</td>\n",
       "    </tr>\n",
       "    <tr>\n",
       "      <th>697</th>\n",
       "      <td>-122.10</td>\n",
       "      <td>37.69</td>\n",
       "      <td>41</td>\n",
       "      <td>746</td>\n",
       "      <td>NaN</td>\n",
       "      <td>387</td>\n",
       "      <td>161</td>\n",
       "      <td>3.9063</td>\n",
       "      <td>178400.0</td>\n",
       "      <td>NEAR BAY</td>\n",
       "    </tr>\n",
       "    <tr>\n",
       "      <th>...</th>\n",
       "      <td>...</td>\n",
       "      <td>...</td>\n",
       "      <td>...</td>\n",
       "      <td>...</td>\n",
       "      <td>...</td>\n",
       "      <td>...</td>\n",
       "      <td>...</td>\n",
       "      <td>...</td>\n",
       "      <td>...</td>\n",
       "      <td>...</td>\n",
       "    </tr>\n",
       "    <tr>\n",
       "      <th>20273</th>\n",
       "      <td>-119.19</td>\n",
       "      <td>34.20</td>\n",
       "      <td>18</td>\n",
       "      <td>3620</td>\n",
       "      <td>NaN</td>\n",
       "      <td>3171</td>\n",
       "      <td>779</td>\n",
       "      <td>3.3409</td>\n",
       "      <td>220500.0</td>\n",
       "      <td>NEAR OCEAN</td>\n",
       "    </tr>\n",
       "    <tr>\n",
       "      <th>20274</th>\n",
       "      <td>-119.18</td>\n",
       "      <td>34.19</td>\n",
       "      <td>19</td>\n",
       "      <td>2393</td>\n",
       "      <td>NaN</td>\n",
       "      <td>1938</td>\n",
       "      <td>762</td>\n",
       "      <td>1.6953</td>\n",
       "      <td>167400.0</td>\n",
       "      <td>NEAR OCEAN</td>\n",
       "    </tr>\n",
       "    <tr>\n",
       "      <th>20378</th>\n",
       "      <td>-118.88</td>\n",
       "      <td>34.17</td>\n",
       "      <td>15</td>\n",
       "      <td>4260</td>\n",
       "      <td>NaN</td>\n",
       "      <td>1701</td>\n",
       "      <td>669</td>\n",
       "      <td>5.1033</td>\n",
       "      <td>410700.0</td>\n",
       "      <td>&lt;1H OCEAN</td>\n",
       "    </tr>\n",
       "    <tr>\n",
       "      <th>20466</th>\n",
       "      <td>-118.75</td>\n",
       "      <td>34.29</td>\n",
       "      <td>17</td>\n",
       "      <td>5512</td>\n",
       "      <td>NaN</td>\n",
       "      <td>2734</td>\n",
       "      <td>814</td>\n",
       "      <td>6.6073</td>\n",
       "      <td>258100.0</td>\n",
       "      <td>&lt;1H OCEAN</td>\n",
       "    </tr>\n",
       "    <tr>\n",
       "      <th>20490</th>\n",
       "      <td>-118.72</td>\n",
       "      <td>34.28</td>\n",
       "      <td>17</td>\n",
       "      <td>3051</td>\n",
       "      <td>NaN</td>\n",
       "      <td>1705</td>\n",
       "      <td>495</td>\n",
       "      <td>5.7376</td>\n",
       "      <td>218600.0</td>\n",
       "      <td>&lt;1H OCEAN</td>\n",
       "    </tr>\n",
       "  </tbody>\n",
       "</table>\n",
       "<p>207 rows × 10 columns</p>\n",
       "</div>"
      ],
      "text/plain": [
       "       longitude  latitude  housing_median_age  total_rooms  total_bedrooms  \\\n",
       "291      -122.16     37.77                  47         1256             NaN   \n",
       "342      -122.17     37.75                  38          992             NaN   \n",
       "539      -122.28     37.78                  29         5154             NaN   \n",
       "564      -122.24     37.75                  45          891             NaN   \n",
       "697      -122.10     37.69                  41          746             NaN   \n",
       "...          ...       ...                 ...          ...             ...   \n",
       "20273    -119.19     34.20                  18         3620             NaN   \n",
       "20274    -119.18     34.19                  19         2393             NaN   \n",
       "20378    -118.88     34.17                  15         4260             NaN   \n",
       "20466    -118.75     34.29                  17         5512             NaN   \n",
       "20490    -118.72     34.28                  17         3051             NaN   \n",
       "\n",
       "       population  households  median_income  median_house_value  \\\n",
       "291           570         218         4.3750            161900.0   \n",
       "342           732         259         1.6196             85100.0   \n",
       "539          3741        1273         2.5762            173400.0   \n",
       "564           384         146         4.9489            247100.0   \n",
       "697           387         161         3.9063            178400.0   \n",
       "...           ...         ...            ...                 ...   \n",
       "20273        3171         779         3.3409            220500.0   \n",
       "20274        1938         762         1.6953            167400.0   \n",
       "20378        1701         669         5.1033            410700.0   \n",
       "20466        2734         814         6.6073            258100.0   \n",
       "20490        1705         495         5.7376            218600.0   \n",
       "\n",
       "      ocean_proximity  \n",
       "291          NEAR BAY  \n",
       "342          NEAR BAY  \n",
       "539          NEAR BAY  \n",
       "564          NEAR BAY  \n",
       "697          NEAR BAY  \n",
       "...               ...  \n",
       "20273      NEAR OCEAN  \n",
       "20274      NEAR OCEAN  \n",
       "20378       <1H OCEAN  \n",
       "20466       <1H OCEAN  \n",
       "20490       <1H OCEAN  \n",
       "\n",
       "[207 rows x 10 columns]"
      ]
     },
     "execution_count": 18,
     "metadata": {},
     "output_type": "execute_result"
    }
   ],
   "source": [
    "data[data[\"total_bedrooms\"].isna()]"
   ]
  },
  {
   "cell_type": "markdown",
   "id": "5e6a9db9",
   "metadata": {},
   "source": [
    "We see that there are thousands of rooms. So we have to do something else. 207 is still a small percentage so we could drop the rows but we can be smarter about it. We can look at all the other data and infer what percentage of total rooms on average are bedrooms and fill these missing values that way or any number of other ways.  \n",
    "Here I'll just show you how to impute them using a simple measure of central tendency like mean or median.\n"
   ]
  },
  {
   "cell_type": "code",
   "execution_count": 19,
   "id": "11790856",
   "metadata": {
    "execution": {
     "iopub.execute_input": "2024-08-28T20:45:07.697882Z",
     "iopub.status.busy": "2024-08-28T20:45:07.697521Z",
     "iopub.status.idle": "2024-08-28T20:45:07.702736Z",
     "shell.execute_reply": "2024-08-28T20:45:07.701936Z",
     "shell.execute_reply.started": "2024-08-28T20:45:07.697865Z"
    }
   },
   "outputs": [],
   "source": [
    "data[\"total_bedrooms\"] = data[\"total_bedrooms\"].fillna(\n",
    "    data[\"total_bedrooms\"].median()\n",
    ")  # or ...`.mean()`... etc."
   ]
  },
  {
   "cell_type": "markdown",
   "id": "8ad49115",
   "metadata": {},
   "source": [
    "And now we should have no missing values in the column:\n"
   ]
  },
  {
   "cell_type": "code",
   "execution_count": 20,
   "id": "92cd7f30",
   "metadata": {
    "execution": {
     "iopub.execute_input": "2024-08-28T20:45:07.704133Z",
     "iopub.status.busy": "2024-08-28T20:45:07.703946Z",
     "iopub.status.idle": "2024-08-28T20:45:07.708965Z",
     "shell.execute_reply": "2024-08-28T20:45:07.708280Z",
     "shell.execute_reply.started": "2024-08-28T20:45:07.704116Z"
    }
   },
   "outputs": [
    {
     "data": {
      "text/plain": [
       "np.int64(0)"
      ]
     },
     "execution_count": 20,
     "metadata": {},
     "output_type": "execute_result"
    }
   ],
   "source": [
    "data[\"total_bedrooms\"].isna().sum()"
   ]
  },
  {
   "cell_type": "markdown",
   "id": "c57f0b5f",
   "metadata": {},
   "source": [
    "As a side, another way to accomplish the same thing is by using the `SimpleImputer` class from scikit-learn. This will do exactly the same thing; the syntax and the way we use it that are different... and I'm gonna show you for reference how to do it...\n"
   ]
  },
  {
   "cell_type": "code",
   "execution_count": 21,
   "id": "24b395aa",
   "metadata": {
    "execution": {
     "iopub.execute_input": "2024-08-28T20:45:07.710131Z",
     "iopub.status.busy": "2024-08-28T20:45:07.709691Z",
     "iopub.status.idle": "2024-08-28T20:45:07.712926Z",
     "shell.execute_reply": "2024-08-28T20:45:07.712282Z",
     "shell.execute_reply.started": "2024-08-28T20:45:07.710112Z"
    }
   },
   "outputs": [],
   "source": [
    "# # Don't actually run\n",
    "# from sklearn.impute import SimpleImputer\n",
    "\n",
    "# imputer = SimpleImputer(strategy=\"median\")\n",
    "# imputer.fit(data[[\"total_bedrooms\"]])\n",
    "# data[\"total_bedrooms\"] = imputer.transform(data[[\"total_bedrooms\"]])"
   ]
  },
  {
   "cell_type": "markdown",
   "id": "6757ecce",
   "metadata": {},
   "source": [
    "Now you may be saying that looks much more complicated, why would i ever do _that_?! Yes, this might look more complex but very importantly, SimpleImputer is a scikit-learn \"estimator\" and for those of you familiar with the concept of pieplines in scikit-learn, an estimator can become a component of a pipeline whereas the simple pandas way can't.  \n",
    "But moving on to..."
   ]
  },
  {
   "cell_type": "markdown",
   "id": "c6f8d04a",
   "metadata": {},
   "source": [
    "> ...*Another* important side note: we've just done something **very wrong** here which we'll talk about in the final video of this lesson, and that is that we have muddied the data and set outselves up for a type of data leakage called train-test contamination. What we **should** have done is perform imputation _after splitting the dataset into training and test sets_; so in other words, fill the missing values in the training set using the median of the values in the training set, and fill the missing values in the test set separately using the median of the values in the test set. But that's a topic of a future video so just keep it in mind until then!\n"
   ]
  },
  {
   "cell_type": "markdown",
   "id": "d82b3110",
   "metadata": {},
   "source": [
    "Alright, finally let's talk about outliers. First off, always make sure an outlier is actually a real valid value! I've seen datasets where a specially large number like 999,999 was used to mean something specific about the row and how it should be treated, or -1 used to indicate missing values in a column that takes positive values otherwise.\n",
    "\n",
    "But once we've established an outlier _is_ \"real\", whether it's really an _outlier_ is again one of those items that is a matter of opinion, domain knowledge and familiarity with the dataset.\n",
    "\n",
    "But anyway, the best way to flag outliers IMO is using boxplots coz they actually show you the IQR and values that fall outside of it. Let's have a look at a single boxplot here...\n"
   ]
  },
  {
   "cell_type": "code",
   "execution_count": 22,
   "id": "c7ace87b",
   "metadata": {
    "execution": {
     "iopub.execute_input": "2024-08-28T20:45:07.714052Z",
     "iopub.status.busy": "2024-08-28T20:45:07.713638Z",
     "iopub.status.idle": "2024-08-28T20:45:08.036124Z",
     "shell.execute_reply": "2024-08-28T20:45:08.035506Z",
     "shell.execute_reply.started": "2024-08-28T20:45:07.714016Z"
    },
    "scrolled": true
   },
   "outputs": [
    {
     "data": {
      "image/png": "[encoded data removed]",
      "text/plain": [
       "<Figure size 640x480 with 1 Axes>"
      ]
     },
     "metadata": {},
     "output_type": "display_data"
    }
   ],
   "source": [
    "import matplotlib.pyplot as plt\n",
    "\n",
    "data.boxplot(\"households\")  # or data.households.plot.box()\n",
    "plt.show()"
   ]
  },
  {
   "cell_type": "markdown",
   "id": "5b342961",
   "metadata": {},
   "source": [
    "You might be surprised by this but we have to view it in context, so let's take a look at the boxplots for all columns\n"
   ]
  },
  {
   "cell_type": "code",
   "execution_count": 23,
   "id": "948b0daf",
   "metadata": {
    "execution": {
     "iopub.execute_input": "2024-08-28T20:45:08.037402Z",
     "iopub.status.busy": "2024-08-28T20:45:08.037197Z",
     "iopub.status.idle": "2024-08-28T20:45:09.117166Z",
     "shell.execute_reply": "2024-08-28T20:45:09.116458Z",
     "shell.execute_reply.started": "2024-08-28T20:45:08.037386Z"
    }
   },
   "outputs": [
    {
     "data": {
      "image/png": "[encoded data removed]",
      "text/plain": [
       "<Figure size 2000x1000 with 10 Axes>"
      ]
     },
     "metadata": {},
     "output_type": "display_data"
    }
   ],
   "source": [
    "import seaborn as sns\n",
    "\n",
    "fig, axs = plt.subplots(ncols=5, nrows=2, figsize=(20, 10))\n",
    "index = 0\n",
    "axs = axs.flatten()\n",
    "for key, _ in data.items():\n",
    "    sns.boxplot(y=key, data=data, ax=axs[index])\n",
    "    index += 1\n",
    "plt.tight_layout(pad=0.5, w_pad=0.5, h_pad=5.0)\n",
    "plt.show()"
   ]
  },
  {
   "cell_type": "markdown",
   "id": "0c9583f8",
   "metadata": {},
   "source": [
    "Obviously most districts are small ones with low population. So we see the same pattern in a few related columns. I wouldn't call these outliers. But one column stands out. Well, two. In the very last column we see that we have one or a few districts that are islands. \n",
    "\n",
    "But let's turn our attention to the more important column beside it, the target `median_house_value`. Looks like we have some very expensive districts. Let's take a closer look using my other favourite visual tool, the trusty old histogram!\n"
   ]
  },
  {
   "cell_type": "code",
   "execution_count": 24,
   "id": "1bd5be07",
   "metadata": {
    "execution": {
     "iopub.execute_input": "2024-08-28T20:45:09.118398Z",
     "iopub.status.busy": "2024-08-28T20:45:09.117950Z",
     "iopub.status.idle": "2024-08-28T20:45:09.211632Z",
     "shell.execute_reply": "2024-08-28T20:45:09.210999Z",
     "shell.execute_reply.started": "2024-08-28T20:45:09.118381Z"
    }
   },
   "outputs": [
    {
     "data": {
      "image/png": "[encoded data removed]",
      "text/plain": [
       "<Figure size 640x480 with 1 Axes>"
      ]
     },
     "metadata": {},
     "output_type": "display_data"
    }
   ],
   "source": [
    "# plot a histogram of the median_house_value\n",
    "data[\"median_house_value\"].plot.hist(bins=50)\n",
    "plt.show()"
   ]
  },
  {
   "cell_type": "markdown",
   "id": "1e45e2c4",
   "metadata": {},
   "source": [
    "Now that was unexpected! We need to investigate further. When we sort the data in order of decreasing value and take a look at the first 100 rows...\n"
   ]
  },
  {
   "cell_type": "code",
   "execution_count": 25,
   "id": "765392d0",
   "metadata": {
    "execution": {
     "iopub.execute_input": "2024-08-28T20:45:09.212643Z",
     "iopub.status.busy": "2024-08-28T20:45:09.212469Z",
     "iopub.status.idle": "2024-08-28T20:45:09.229945Z",
     "shell.execute_reply": "2024-08-28T20:45:09.229065Z",
     "shell.execute_reply.started": "2024-08-28T20:45:09.212627Z"
    }
   },
   "outputs": [
    {
     "data": {
      "text/html": [
       "<div>\n",
       "<style scoped>\n",
       "    .dataframe tbody tr th:only-of-type {\n",
       "        vertical-align: middle;\n",
       "    }\n",
       "\n",
       "    .dataframe tbody tr th {\n",
       "        vertical-align: top;\n",
       "    }\n",
       "\n",
       "    .dataframe thead th {\n",
       "        text-align: right;\n",
       "    }\n",
       "</style>\n",
       "<table border=\"1\" class=\"dataframe\">\n",
       "  <thead>\n",
       "    <tr style=\"text-align: right;\">\n",
       "      <th></th>\n",
       "      <th>longitude</th>\n",
       "      <th>latitude</th>\n",
       "      <th>housing_median_age</th>\n",
       "      <th>total_rooms</th>\n",
       "      <th>total_bedrooms</th>\n",
       "      <th>population</th>\n",
       "      <th>households</th>\n",
       "      <th>median_income</th>\n",
       "      <th>median_house_value</th>\n",
       "      <th>ocean_proximity</th>\n",
       "    </tr>\n",
       "  </thead>\n",
       "  <tbody>\n",
       "    <tr>\n",
       "      <th>20341</th>\n",
       "      <td>-118.94</td>\n",
       "      <td>34.24</td>\n",
       "      <td>5</td>\n",
       "      <td>10018</td>\n",
       "      <td>1233.0</td>\n",
       "      <td>4253</td>\n",
       "      <td>1120</td>\n",
       "      <td>8.9063</td>\n",
       "      <td>500001.0</td>\n",
       "      <td>&lt;1H OCEAN</td>\n",
       "    </tr>\n",
       "    <tr>\n",
       "      <th>20449</th>\n",
       "      <td>-118.85</td>\n",
       "      <td>34.27</td>\n",
       "      <td>50</td>\n",
       "      <td>187</td>\n",
       "      <td>33.0</td>\n",
       "      <td>130</td>\n",
       "      <td>35</td>\n",
       "      <td>3.3438</td>\n",
       "      <td>500001.0</td>\n",
       "      <td>&lt;1H OCEAN</td>\n",
       "    </tr>\n",
       "    <tr>\n",
       "      <th>20442</th>\n",
       "      <td>-118.69</td>\n",
       "      <td>34.21</td>\n",
       "      <td>10</td>\n",
       "      <td>3663</td>\n",
       "      <td>409.0</td>\n",
       "      <td>1179</td>\n",
       "      <td>371</td>\n",
       "      <td>12.5420</td>\n",
       "      <td>500001.0</td>\n",
       "      <td>&lt;1H OCEAN</td>\n",
       "    </tr>\n",
       "    <tr>\n",
       "      <th>3545</th>\n",
       "      <td>-118.57</td>\n",
       "      <td>34.27</td>\n",
       "      <td>20</td>\n",
       "      <td>7384</td>\n",
       "      <td>845.0</td>\n",
       "      <td>2795</td>\n",
       "      <td>872</td>\n",
       "      <td>9.6047</td>\n",
       "      <td>500001.0</td>\n",
       "      <td>&lt;1H OCEAN</td>\n",
       "    </tr>\n",
       "    <tr>\n",
       "      <th>3559</th>\n",
       "      <td>-118.56</td>\n",
       "      <td>34.25</td>\n",
       "      <td>31</td>\n",
       "      <td>1962</td>\n",
       "      <td>243.0</td>\n",
       "      <td>697</td>\n",
       "      <td>242</td>\n",
       "      <td>8.5650</td>\n",
       "      <td>500001.0</td>\n",
       "      <td>&lt;1H OCEAN</td>\n",
       "    </tr>\n",
       "    <tr>\n",
       "      <th>...</th>\n",
       "      <td>...</td>\n",
       "      <td>...</td>\n",
       "      <td>...</td>\n",
       "      <td>...</td>\n",
       "      <td>...</td>\n",
       "      <td>...</td>\n",
       "      <td>...</td>\n",
       "      <td>...</td>\n",
       "      <td>...</td>\n",
       "      <td>...</td>\n",
       "    </tr>\n",
       "    <tr>\n",
       "      <th>18466</th>\n",
       "      <td>-121.76</td>\n",
       "      <td>37.26</td>\n",
       "      <td>17</td>\n",
       "      <td>250</td>\n",
       "      <td>52.0</td>\n",
       "      <td>141</td>\n",
       "      <td>51</td>\n",
       "      <td>4.6458</td>\n",
       "      <td>500001.0</td>\n",
       "      <td>&lt;1H OCEAN</td>\n",
       "    </tr>\n",
       "    <tr>\n",
       "      <th>18469</th>\n",
       "      <td>-121.74</td>\n",
       "      <td>37.19</td>\n",
       "      <td>11</td>\n",
       "      <td>1290</td>\n",
       "      <td>197.0</td>\n",
       "      <td>881</td>\n",
       "      <td>191</td>\n",
       "      <td>4.2039</td>\n",
       "      <td>500001.0</td>\n",
       "      <td>&lt;1H OCEAN</td>\n",
       "    </tr>\n",
       "    <tr>\n",
       "      <th>4262</th>\n",
       "      <td>-118.34</td>\n",
       "      <td>34.10</td>\n",
       "      <td>29</td>\n",
       "      <td>3193</td>\n",
       "      <td>1452.0</td>\n",
       "      <td>2039</td>\n",
       "      <td>1265</td>\n",
       "      <td>1.8209</td>\n",
       "      <td>500001.0</td>\n",
       "      <td>&lt;1H OCEAN</td>\n",
       "    </tr>\n",
       "    <tr>\n",
       "      <th>4322</th>\n",
       "      <td>-118.34</td>\n",
       "      <td>34.08</td>\n",
       "      <td>52</td>\n",
       "      <td>1430</td>\n",
       "      <td>186.0</td>\n",
       "      <td>547</td>\n",
       "      <td>178</td>\n",
       "      <td>10.3661</td>\n",
       "      <td>500001.0</td>\n",
       "      <td>&lt;1H OCEAN</td>\n",
       "    </tr>\n",
       "    <tr>\n",
       "      <th>4330</th>\n",
       "      <td>-118.33</td>\n",
       "      <td>34.08</td>\n",
       "      <td>52</td>\n",
       "      <td>1777</td>\n",
       "      <td>454.0</td>\n",
       "      <td>671</td>\n",
       "      <td>439</td>\n",
       "      <td>3.5083</td>\n",
       "      <td>500001.0</td>\n",
       "      <td>&lt;1H OCEAN</td>\n",
       "    </tr>\n",
       "  </tbody>\n",
       "</table>\n",
       "<p>100 rows × 10 columns</p>\n",
       "</div>"
      ],
      "text/plain": [
       "       longitude  latitude  housing_median_age  total_rooms  total_bedrooms  \\\n",
       "20341    -118.94     34.24                   5        10018          1233.0   \n",
       "20449    -118.85     34.27                  50          187            33.0   \n",
       "20442    -118.69     34.21                  10         3663           409.0   \n",
       "3545     -118.57     34.27                  20         7384           845.0   \n",
       "3559     -118.56     34.25                  31         1962           243.0   \n",
       "...          ...       ...                 ...          ...             ...   \n",
       "18466    -121.76     37.26                  17          250            52.0   \n",
       "18469    -121.74     37.19                  11         1290           197.0   \n",
       "4262     -118.34     34.10                  29         3193          1452.0   \n",
       "4322     -118.34     34.08                  52         1430           186.0   \n",
       "4330     -118.33     34.08                  52         1777           454.0   \n",
       "\n",
       "       population  households  median_income  median_house_value  \\\n",
       "20341        4253        1120         8.9063            500001.0   \n",
       "20449         130          35         3.3438            500001.0   \n",
       "20442        1179         371        12.5420            500001.0   \n",
       "3545         2795         872         9.6047            500001.0   \n",
       "3559          697         242         8.5650            500001.0   \n",
       "...           ...         ...            ...                 ...   \n",
       "18466         141          51         4.6458            500001.0   \n",
       "18469         881         191         4.2039            500001.0   \n",
       "4262         2039        1265         1.8209            500001.0   \n",
       "4322          547         178        10.3661            500001.0   \n",
       "4330          671         439         3.5083            500001.0   \n",
       "\n",
       "      ocean_proximity  \n",
       "20341       <1H OCEAN  \n",
       "20449       <1H OCEAN  \n",
       "20442       <1H OCEAN  \n",
       "3545        <1H OCEAN  \n",
       "3559        <1H OCEAN  \n",
       "...               ...  \n",
       "18466       <1H OCEAN  \n",
       "18469       <1H OCEAN  \n",
       "4262        <1H OCEAN  \n",
       "4322        <1H OCEAN  \n",
       "4330        <1H OCEAN  \n",
       "\n",
       "[100 rows x 10 columns]"
      ]
     },
     "execution_count": 25,
     "metadata": {},
     "output_type": "execute_result"
    }
   ],
   "source": [
    "data.sort_values(\"median_house_value\", ascending=False).head(100)"
   ]
  },
  {
   "cell_type": "markdown",
   "id": "bccae94f",
   "metadata": {},
   "source": [
    "We see that the median house value 500,001 dominates in the tail. How many entries with this value do we have exactly?\n"
   ]
  },
  {
   "cell_type": "code",
   "execution_count": 26,
   "id": "d6c7abd7",
   "metadata": {
    "execution": {
     "iopub.execute_input": "2024-08-28T20:45:09.231045Z",
     "iopub.status.busy": "2024-08-28T20:45:09.230834Z",
     "iopub.status.idle": "2024-08-28T20:45:09.236764Z",
     "shell.execute_reply": "2024-08-28T20:45:09.235972Z",
     "shell.execute_reply.started": "2024-08-28T20:45:09.231027Z"
    }
   },
   "outputs": [
    {
     "data": {
      "text/plain": [
       "(965, 10)"
      ]
     },
     "execution_count": 26,
     "metadata": {},
     "output_type": "execute_result"
    }
   ],
   "source": [
    "data[data[\"median_house_value\"] == 500001].shape"
   ]
  },
  {
   "cell_type": "markdown",
   "id": "f61e950b",
   "metadata": {},
   "source": [
    "965 records!! That is...\n"
   ]
  },
  {
   "cell_type": "code",
   "execution_count": 27,
   "id": "196670e6",
   "metadata": {
    "execution": {
     "iopub.execute_input": "2024-08-28T20:45:09.238273Z",
     "iopub.status.busy": "2024-08-28T20:45:09.237866Z",
     "iopub.status.idle": "2024-08-28T20:45:09.243820Z",
     "shell.execute_reply": "2024-08-28T20:45:09.243122Z",
     "shell.execute_reply.started": "2024-08-28T20:45:09.238255Z"
    }
   },
   "outputs": [
    {
     "data": {
      "text/plain": [
       "4.675614128591501"
      ]
     },
     "execution_count": 27,
     "metadata": {},
     "output_type": "execute_result"
    }
   ],
   "source": [
    "len(data[data[\"median_house_value\"] == 500001]) / len(data) * 100"
   ]
  },
  {
   "cell_type": "markdown",
   "id": "2f4bf8d5",
   "metadata": {},
   "source": [
    "Roughly 5% of the entire dataset! What could be hapenning here is either there is an error in the data entry process or much more likely, the column has already been capped. Meaning there were probably districts with _much_ higher median prices that were skewing the data too much and whoever made this dataset decided to enforce a cap on the values to keep things reasonable.  \n",
    "Either way... What should we do with these rows? Well, as always that's a matter of expert opinion! We could take the data as it is or we could drop these and lose 5% of the data which is not insignificant. In the next video and demo we'll talk about feature scaling, which might also be helpful here.\n"
   ]
  },
  {
   "cell_type": "markdown",
   "id": "86b9f00e-d547-45fc-bdf9-f080adaa3605",
   "metadata": {},
   "source": [
    "In fact it's a good idea to look at histograms for all columns..."
   ]
  },
  {
   "cell_type": "code",
   "execution_count": 28,
   "id": "8fdcfcfd-7c66-4b82-8372-9bfaab2285be",
   "metadata": {
    "execution": {
     "iopub.execute_input": "2024-08-28T20:45:09.245201Z",
     "iopub.status.busy": "2024-08-28T20:45:09.244747Z",
     "iopub.status.idle": "2024-08-28T20:45:10.306038Z",
     "shell.execute_reply": "2024-08-28T20:45:10.305376Z",
     "shell.execute_reply.started": "2024-08-28T20:45:09.245183Z"
    }
   },
   "outputs": [
    {
     "data": {
      "image/png": "[encoded data removed]",
      "text/plain": [
       "<Figure size 2000x1000 with 10 Axes>"
      ]
     },
     "metadata": {},
     "output_type": "display_data"
    }
   ],
   "source": [
    "fig, axs = plt.subplots(ncols=5, nrows=2, figsize=(20, 10))\n",
    "index = 0\n",
    "axs = axs.flatten()\n",
    "for key, _ in data.items():\n",
    "    sns.histplot(x=key, data=data, ax=axs[index], bins=50)\n",
    "    index += 1\n",
    "plt.tight_layout(pad=0.5, w_pad=0.5, h_pad=5.0)\n",
    "plt.show()"
   ]
  },
  {
   "cell_type": "markdown",
   "id": "df7b475c-ddb0-469b-89c3-abcd4cf3dd0d",
   "metadata": {},
   "source": [
    "We see that `housing_median_age` might also be capped at 52."
   ]
  },
  {
   "cell_type": "code",
   "execution_count": 29,
   "id": "75c26902",
   "metadata": {
    "execution": {
     "iopub.execute_input": "2024-08-28T20:45:10.308794Z",
     "iopub.status.busy": "2024-08-28T20:45:10.308236Z",
     "iopub.status.idle": "2024-08-28T20:45:10.410626Z",
     "shell.execute_reply": "2024-08-28T20:45:10.409914Z",
     "shell.execute_reply.started": "2024-08-28T20:45:10.308772Z"
    }
   },
   "outputs": [],
   "source": [
    "# Save the cleaned data to be used in the next demo\n",
    "data.to_csv(\"cali_housing_modified_cleaned.csv\", index=False)"
   ]
  }
 ],
 "metadata": {
  "kernelspec": {
   "display_name": "Python 3 (ipykernel)",
   "language": "python",
   "name": "python3"
  },
  "language_info": {
   "codemirror_mode": {
    "name": "ipython",
    "version": 3
   },
   "file_extension": ".py",
   "mimetype": "text/x-python",
   "name": "python",
   "nbconvert_exporter": "python",
   "pygments_lexer": "ipython3",
   "version": "3.10.6"
  }
 },
 "nbformat": 4,
 "nbformat_minor": 5
}
