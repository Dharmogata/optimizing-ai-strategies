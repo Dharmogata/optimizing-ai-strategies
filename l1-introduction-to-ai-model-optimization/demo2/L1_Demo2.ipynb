{
 "cells": [
  {
   "cell_type": "markdown",
   "metadata": {},
   "source": [
    "Topics to cover:\n",
    "\n",
    "- One-Hot Encoding\n",
    "- Discretizing: equally-sized bins + equal-frequency bins\n",
    "- ~~Interaction terms and/or polynomial features? (optional)~~\n",
    "- Feature scaling: normalizing, standardizing, robust scaling (robust standardization)\n"
   ]
  },
  {
   "cell_type": "code",
   "execution_count": 1,
   "metadata": {
    "execution": {
     "iopub.execute_input": "2024-08-31T23:30:52.777791Z",
     "iopub.status.busy": "2024-08-31T23:30:52.777614Z",
     "iopub.status.idle": "2024-08-31T23:30:53.630052Z",
     "shell.execute_reply": "2024-08-31T23:30:53.629209Z",
     "shell.execute_reply.started": "2024-08-31T23:30:52.777773Z"
    }
   },
   "outputs": [],
   "source": [
    "import matplotlib.pyplot as plt\n",
    "import pandas as pd\n",
    "import seaborn as sns"
   ]
  },
  {
   "cell_type": "markdown",
   "metadata": {},
   "source": [
    "In this demo we're going to see some feature engineering and scaling techniques in action."
   ]
  },
  {
   "cell_type": "code",
   "execution_count": 2,
   "metadata": {
    "execution": {
     "iopub.execute_input": "2024-08-31T23:30:53.631163Z",
     "iopub.status.busy": "2024-08-31T23:30:53.630915Z",
     "iopub.status.idle": "2024-08-31T23:30:53.647448Z",
     "shell.execute_reply": "2024-08-31T23:30:53.646740Z",
     "shell.execute_reply.started": "2024-08-31T23:30:53.631145Z"
    }
   },
   "outputs": [],
   "source": [
    "data = pd.read_csv(\"cali_housing_modified_cleaned.csv\")"
   ]
  },
  {
   "cell_type": "code",
   "execution_count": 3,
   "metadata": {
    "execution": {
     "iopub.execute_input": "2024-08-31T23:30:53.649018Z",
     "iopub.status.busy": "2024-08-31T23:30:53.648592Z",
     "iopub.status.idle": "2024-08-31T23:30:53.663302Z",
     "shell.execute_reply": "2024-08-31T23:30:53.662448Z",
     "shell.execute_reply.started": "2024-08-31T23:30:53.648991Z"
    }
   },
   "outputs": [
    {
     "data": {
      "text/html": [
       "<div>\n",
       "<style scoped>\n",
       "    .dataframe tbody tr th:only-of-type {\n",
       "        vertical-align: middle;\n",
       "    }\n",
       "\n",
       "    .dataframe tbody tr th {\n",
       "        vertical-align: top;\n",
       "    }\n",
       "\n",
       "    .dataframe thead th {\n",
       "        text-align: right;\n",
       "    }\n",
       "</style>\n",
       "<table border=\"1\" class=\"dataframe\">\n",
       "  <thead>\n",
       "    <tr style=\"text-align: right;\">\n",
       "      <th></th>\n",
       "      <th>longitude</th>\n",
       "      <th>latitude</th>\n",
       "      <th>housing_median_age</th>\n",
       "      <th>total_rooms</th>\n",
       "      <th>total_bedrooms</th>\n",
       "      <th>population</th>\n",
       "      <th>households</th>\n",
       "      <th>median_income</th>\n",
       "      <th>median_house_value</th>\n",
       "      <th>ocean_proximity</th>\n",
       "    </tr>\n",
       "  </thead>\n",
       "  <tbody>\n",
       "    <tr>\n",
       "      <th>0</th>\n",
       "      <td>-122.23</td>\n",
       "      <td>37.88</td>\n",
       "      <td>41</td>\n",
       "      <td>880</td>\n",
       "      <td>129.0</td>\n",
       "      <td>322</td>\n",
       "      <td>126</td>\n",
       "      <td>8.3252</td>\n",
       "      <td>452600.0</td>\n",
       "      <td>NEAR BAY</td>\n",
       "    </tr>\n",
       "    <tr>\n",
       "      <th>1</th>\n",
       "      <td>-122.22</td>\n",
       "      <td>37.86</td>\n",
       "      <td>21</td>\n",
       "      <td>7099</td>\n",
       "      <td>1106.0</td>\n",
       "      <td>2401</td>\n",
       "      <td>1138</td>\n",
       "      <td>8.3014</td>\n",
       "      <td>358500.0</td>\n",
       "      <td>NEAR BAY</td>\n",
       "    </tr>\n",
       "    <tr>\n",
       "      <th>2</th>\n",
       "      <td>-122.24</td>\n",
       "      <td>37.85</td>\n",
       "      <td>52</td>\n",
       "      <td>1467</td>\n",
       "      <td>190.0</td>\n",
       "      <td>496</td>\n",
       "      <td>177</td>\n",
       "      <td>7.2574</td>\n",
       "      <td>352100.0</td>\n",
       "      <td>NEAR BAY</td>\n",
       "    </tr>\n",
       "    <tr>\n",
       "      <th>3</th>\n",
       "      <td>-122.25</td>\n",
       "      <td>37.85</td>\n",
       "      <td>52</td>\n",
       "      <td>1274</td>\n",
       "      <td>235.0</td>\n",
       "      <td>558</td>\n",
       "      <td>219</td>\n",
       "      <td>5.6431</td>\n",
       "      <td>341300.0</td>\n",
       "      <td>NEAR BAY</td>\n",
       "    </tr>\n",
       "    <tr>\n",
       "      <th>4</th>\n",
       "      <td>-122.25</td>\n",
       "      <td>37.85</td>\n",
       "      <td>52</td>\n",
       "      <td>1627</td>\n",
       "      <td>280.0</td>\n",
       "      <td>565</td>\n",
       "      <td>259</td>\n",
       "      <td>3.8462</td>\n",
       "      <td>342200.0</td>\n",
       "      <td>NEAR BAY</td>\n",
       "    </tr>\n",
       "  </tbody>\n",
       "</table>\n",
       "</div>"
      ],
      "text/plain": [
       "   longitude  latitude  housing_median_age  total_rooms  total_bedrooms  \\\n",
       "0    -122.23     37.88                  41          880           129.0   \n",
       "1    -122.22     37.86                  21         7099          1106.0   \n",
       "2    -122.24     37.85                  52         1467           190.0   \n",
       "3    -122.25     37.85                  52         1274           235.0   \n",
       "4    -122.25     37.85                  52         1627           280.0   \n",
       "\n",
       "   population  households  median_income  median_house_value ocean_proximity  \n",
       "0         322         126         8.3252            452600.0        NEAR BAY  \n",
       "1        2401        1138         8.3014            358500.0        NEAR BAY  \n",
       "2         496         177         7.2574            352100.0        NEAR BAY  \n",
       "3         558         219         5.6431            341300.0        NEAR BAY  \n",
       "4         565         259         3.8462            342200.0        NEAR BAY  "
      ]
     },
     "execution_count": 3,
     "metadata": {},
     "output_type": "execute_result"
    }
   ],
   "source": [
    "data.head()"
   ]
  },
  {
   "cell_type": "code",
   "execution_count": 4,
   "metadata": {
    "execution": {
     "iopub.execute_input": "2024-08-31T23:30:53.664493Z",
     "iopub.status.busy": "2024-08-31T23:30:53.664275Z",
     "iopub.status.idle": "2024-08-31T23:30:53.671672Z",
     "shell.execute_reply": "2024-08-31T23:30:53.670644Z",
     "shell.execute_reply.started": "2024-08-31T23:30:53.664476Z"
    }
   },
   "outputs": [],
   "source": [
    "# one-hot encoding the ocean_proximity column\n",
    "data = pd.get_dummies(data, columns=[\"ocean_proximity\"])"
   ]
  },
  {
   "cell_type": "markdown",
   "metadata": {},
   "source": [
    "Here again, to do the exact same thing using scikit-learn so that it could be embedded into a pipeline, we would say do this:\n"
   ]
  },
  {
   "cell_type": "code",
   "execution_count": 5,
   "metadata": {
    "execution": {
     "iopub.execute_input": "2024-08-31T23:30:53.672684Z",
     "iopub.status.busy": "2024-08-31T23:30:53.672499Z",
     "iopub.status.idle": "2024-08-31T23:30:53.676068Z",
     "shell.execute_reply": "2024-08-31T23:30:53.675341Z",
     "shell.execute_reply.started": "2024-08-31T23:30:53.672668Z"
    }
   },
   "outputs": [],
   "source": [
    "# from sklearn.preprocessing import OneHotEncoder\n",
    "\n",
    "# encoder = OneHotEncoder()\n",
    "# ocn_prox_encoded = encoder.fit_transform(data[[\"ocean_proximity\"]])\n",
    "# # `data_encoded` is a sparse matrix; needs to be converted to a DataFrame\n",
    "# ocn_prox_encoded_df = pd.DataFrame(ocn_prox_encoded.toarray(), columns=encoder.categories_)\n",
    "# # Stick these new columns back onto the original dataframe and drop the original\n",
    "# data = pd.concat([data, ocn_prox_encoded_df], axis=1)\n",
    "# data.drop(columns=[\"ocean_proximity\"], inplace=True)\n",
    "\n",
    "# # Specify better names for the new columns\n",
    "# data.columns = data.columns.tolist()[:-5] + [\n",
    "#     \"ocean_proximity_<1H OCEAN\",\n",
    "#     \"ocean_proximity_INLAND\",\n",
    "#     \"ocean_proximity_ISLAND\",\n",
    "#     \"ocean_proximity_NEAR BAY\",\n",
    "#     \"ocean_proximity_NEAR OCEAN\",\n",
    "# ]"
   ]
  },
  {
   "cell_type": "code",
   "execution_count": 6,
   "metadata": {
    "execution": {
     "iopub.execute_input": "2024-08-31T23:30:53.678945Z",
     "iopub.status.busy": "2024-08-31T23:30:53.678620Z",
     "iopub.status.idle": "2024-08-31T23:30:53.689902Z",
     "shell.execute_reply": "2024-08-31T23:30:53.689172Z",
     "shell.execute_reply.started": "2024-08-31T23:30:53.678928Z"
    }
   },
   "outputs": [
    {
     "data": {
      "text/html": [
       "<div>\n",
       "<style scoped>\n",
       "    .dataframe tbody tr th:only-of-type {\n",
       "        vertical-align: middle;\n",
       "    }\n",
       "\n",
       "    .dataframe tbody tr th {\n",
       "        vertical-align: top;\n",
       "    }\n",
       "\n",
       "    .dataframe thead th {\n",
       "        text-align: right;\n",
       "    }\n",
       "</style>\n",
       "<table border=\"1\" class=\"dataframe\">\n",
       "  <thead>\n",
       "    <tr style=\"text-align: right;\">\n",
       "      <th></th>\n",
       "      <th>longitude</th>\n",
       "      <th>latitude</th>\n",
       "      <th>housing_median_age</th>\n",
       "      <th>total_rooms</th>\n",
       "      <th>total_bedrooms</th>\n",
       "      <th>population</th>\n",
       "      <th>households</th>\n",
       "      <th>median_income</th>\n",
       "      <th>median_house_value</th>\n",
       "      <th>ocean_proximity_&lt;1H OCEAN</th>\n",
       "      <th>ocean_proximity_INLAND</th>\n",
       "      <th>ocean_proximity_ISLAND</th>\n",
       "      <th>ocean_proximity_NEAR BAY</th>\n",
       "      <th>ocean_proximity_NEAR OCEAN</th>\n",
       "    </tr>\n",
       "  </thead>\n",
       "  <tbody>\n",
       "    <tr>\n",
       "      <th>0</th>\n",
       "      <td>-122.23</td>\n",
       "      <td>37.88</td>\n",
       "      <td>41</td>\n",
       "      <td>880</td>\n",
       "      <td>129.0</td>\n",
       "      <td>322</td>\n",
       "      <td>126</td>\n",
       "      <td>8.3252</td>\n",
       "      <td>452600.0</td>\n",
       "      <td>False</td>\n",
       "      <td>False</td>\n",
       "      <td>False</td>\n",
       "      <td>True</td>\n",
       "      <td>False</td>\n",
       "    </tr>\n",
       "    <tr>\n",
       "      <th>1</th>\n",
       "      <td>-122.22</td>\n",
       "      <td>37.86</td>\n",
       "      <td>21</td>\n",
       "      <td>7099</td>\n",
       "      <td>1106.0</td>\n",
       "      <td>2401</td>\n",
       "      <td>1138</td>\n",
       "      <td>8.3014</td>\n",
       "      <td>358500.0</td>\n",
       "      <td>False</td>\n",
       "      <td>False</td>\n",
       "      <td>False</td>\n",
       "      <td>True</td>\n",
       "      <td>False</td>\n",
       "    </tr>\n",
       "    <tr>\n",
       "      <th>2</th>\n",
       "      <td>-122.24</td>\n",
       "      <td>37.85</td>\n",
       "      <td>52</td>\n",
       "      <td>1467</td>\n",
       "      <td>190.0</td>\n",
       "      <td>496</td>\n",
       "      <td>177</td>\n",
       "      <td>7.2574</td>\n",
       "      <td>352100.0</td>\n",
       "      <td>False</td>\n",
       "      <td>False</td>\n",
       "      <td>False</td>\n",
       "      <td>True</td>\n",
       "      <td>False</td>\n",
       "    </tr>\n",
       "    <tr>\n",
       "      <th>3</th>\n",
       "      <td>-122.25</td>\n",
       "      <td>37.85</td>\n",
       "      <td>52</td>\n",
       "      <td>1274</td>\n",
       "      <td>235.0</td>\n",
       "      <td>558</td>\n",
       "      <td>219</td>\n",
       "      <td>5.6431</td>\n",
       "      <td>341300.0</td>\n",
       "      <td>False</td>\n",
       "      <td>False</td>\n",
       "      <td>False</td>\n",
       "      <td>True</td>\n",
       "      <td>False</td>\n",
       "    </tr>\n",
       "    <tr>\n",
       "      <th>4</th>\n",
       "      <td>-122.25</td>\n",
       "      <td>37.85</td>\n",
       "      <td>52</td>\n",
       "      <td>1627</td>\n",
       "      <td>280.0</td>\n",
       "      <td>565</td>\n",
       "      <td>259</td>\n",
       "      <td>3.8462</td>\n",
       "      <td>342200.0</td>\n",
       "      <td>False</td>\n",
       "      <td>False</td>\n",
       "      <td>False</td>\n",
       "      <td>True</td>\n",
       "      <td>False</td>\n",
       "    </tr>\n",
       "  </tbody>\n",
       "</table>\n",
       "</div>"
      ],
      "text/plain": [
       "   longitude  latitude  housing_median_age  total_rooms  total_bedrooms  \\\n",
       "0    -122.23     37.88                  41          880           129.0   \n",
       "1    -122.22     37.86                  21         7099          1106.0   \n",
       "2    -122.24     37.85                  52         1467           190.0   \n",
       "3    -122.25     37.85                  52         1274           235.0   \n",
       "4    -122.25     37.85                  52         1627           280.0   \n",
       "\n",
       "   population  households  median_income  median_house_value  \\\n",
       "0         322         126         8.3252            452600.0   \n",
       "1        2401        1138         8.3014            358500.0   \n",
       "2         496         177         7.2574            352100.0   \n",
       "3         558         219         5.6431            341300.0   \n",
       "4         565         259         3.8462            342200.0   \n",
       "\n",
       "   ocean_proximity_<1H OCEAN  ocean_proximity_INLAND  ocean_proximity_ISLAND  \\\n",
       "0                      False                   False                   False   \n",
       "1                      False                   False                   False   \n",
       "2                      False                   False                   False   \n",
       "3                      False                   False                   False   \n",
       "4                      False                   False                   False   \n",
       "\n",
       "   ocean_proximity_NEAR BAY  ocean_proximity_NEAR OCEAN  \n",
       "0                      True                       False  \n",
       "1                      True                       False  \n",
       "2                      True                       False  \n",
       "3                      True                       False  \n",
       "4                      True                       False  "
      ]
     },
     "execution_count": 6,
     "metadata": {},
     "output_type": "execute_result"
    }
   ],
   "source": [
    "data.head()"
   ]
  },
  {
   "cell_type": "markdown",
   "metadata": {},
   "source": [
    "One problem: We now have multicollinearity because one column is redundant. This could spell trouble for some types of models. So we should have done:"
   ]
  },
  {
   "cell_type": "code",
   "execution_count": 7,
   "metadata": {
    "execution": {
     "iopub.execute_input": "2024-08-31T23:30:53.691106Z",
     "iopub.status.busy": "2024-08-31T23:30:53.690919Z",
     "iopub.status.idle": "2024-08-31T23:30:53.714136Z",
     "shell.execute_reply": "2024-08-31T23:30:53.713484Z",
     "shell.execute_reply.started": "2024-08-31T23:30:53.691090Z"
    }
   },
   "outputs": [
    {
     "data": {
      "text/html": [
       "<div>\n",
       "<style scoped>\n",
       "    .dataframe tbody tr th:only-of-type {\n",
       "        vertical-align: middle;\n",
       "    }\n",
       "\n",
       "    .dataframe tbody tr th {\n",
       "        vertical-align: top;\n",
       "    }\n",
       "\n",
       "    .dataframe thead th {\n",
       "        text-align: right;\n",
       "    }\n",
       "</style>\n",
       "<table border=\"1\" class=\"dataframe\">\n",
       "  <thead>\n",
       "    <tr style=\"text-align: right;\">\n",
       "      <th></th>\n",
       "      <th>longitude</th>\n",
       "      <th>latitude</th>\n",
       "      <th>housing_median_age</th>\n",
       "      <th>total_rooms</th>\n",
       "      <th>total_bedrooms</th>\n",
       "      <th>population</th>\n",
       "      <th>households</th>\n",
       "      <th>median_income</th>\n",
       "      <th>median_house_value</th>\n",
       "      <th>ocean_proximity_INLAND</th>\n",
       "      <th>ocean_proximity_ISLAND</th>\n",
       "      <th>ocean_proximity_NEAR BAY</th>\n",
       "      <th>ocean_proximity_NEAR OCEAN</th>\n",
       "    </tr>\n",
       "  </thead>\n",
       "  <tbody>\n",
       "    <tr>\n",
       "      <th>0</th>\n",
       "      <td>-122.23</td>\n",
       "      <td>37.88</td>\n",
       "      <td>41</td>\n",
       "      <td>880</td>\n",
       "      <td>129.0</td>\n",
       "      <td>322</td>\n",
       "      <td>126</td>\n",
       "      <td>8.3252</td>\n",
       "      <td>452600.0</td>\n",
       "      <td>False</td>\n",
       "      <td>False</td>\n",
       "      <td>True</td>\n",
       "      <td>False</td>\n",
       "    </tr>\n",
       "    <tr>\n",
       "      <th>1</th>\n",
       "      <td>-122.22</td>\n",
       "      <td>37.86</td>\n",
       "      <td>21</td>\n",
       "      <td>7099</td>\n",
       "      <td>1106.0</td>\n",
       "      <td>2401</td>\n",
       "      <td>1138</td>\n",
       "      <td>8.3014</td>\n",
       "      <td>358500.0</td>\n",
       "      <td>False</td>\n",
       "      <td>False</td>\n",
       "      <td>True</td>\n",
       "      <td>False</td>\n",
       "    </tr>\n",
       "    <tr>\n",
       "      <th>2</th>\n",
       "      <td>-122.24</td>\n",
       "      <td>37.85</td>\n",
       "      <td>52</td>\n",
       "      <td>1467</td>\n",
       "      <td>190.0</td>\n",
       "      <td>496</td>\n",
       "      <td>177</td>\n",
       "      <td>7.2574</td>\n",
       "      <td>352100.0</td>\n",
       "      <td>False</td>\n",
       "      <td>False</td>\n",
       "      <td>True</td>\n",
       "      <td>False</td>\n",
       "    </tr>\n",
       "    <tr>\n",
       "      <th>3</th>\n",
       "      <td>-122.25</td>\n",
       "      <td>37.85</td>\n",
       "      <td>52</td>\n",
       "      <td>1274</td>\n",
       "      <td>235.0</td>\n",
       "      <td>558</td>\n",
       "      <td>219</td>\n",
       "      <td>5.6431</td>\n",
       "      <td>341300.0</td>\n",
       "      <td>False</td>\n",
       "      <td>False</td>\n",
       "      <td>True</td>\n",
       "      <td>False</td>\n",
       "    </tr>\n",
       "    <tr>\n",
       "      <th>4</th>\n",
       "      <td>-122.25</td>\n",
       "      <td>37.85</td>\n",
       "      <td>52</td>\n",
       "      <td>1627</td>\n",
       "      <td>280.0</td>\n",
       "      <td>565</td>\n",
       "      <td>259</td>\n",
       "      <td>3.8462</td>\n",
       "      <td>342200.0</td>\n",
       "      <td>False</td>\n",
       "      <td>False</td>\n",
       "      <td>True</td>\n",
       "      <td>False</td>\n",
       "    </tr>\n",
       "  </tbody>\n",
       "</table>\n",
       "</div>"
      ],
      "text/plain": [
       "   longitude  latitude  housing_median_age  total_rooms  total_bedrooms  \\\n",
       "0    -122.23     37.88                  41          880           129.0   \n",
       "1    -122.22     37.86                  21         7099          1106.0   \n",
       "2    -122.24     37.85                  52         1467           190.0   \n",
       "3    -122.25     37.85                  52         1274           235.0   \n",
       "4    -122.25     37.85                  52         1627           280.0   \n",
       "\n",
       "   population  households  median_income  median_house_value  \\\n",
       "0         322         126         8.3252            452600.0   \n",
       "1        2401        1138         8.3014            358500.0   \n",
       "2         496         177         7.2574            352100.0   \n",
       "3         558         219         5.6431            341300.0   \n",
       "4         565         259         3.8462            342200.0   \n",
       "\n",
       "   ocean_proximity_INLAND  ocean_proximity_ISLAND  ocean_proximity_NEAR BAY  \\\n",
       "0                   False                   False                      True   \n",
       "1                   False                   False                      True   \n",
       "2                   False                   False                      True   \n",
       "3                   False                   False                      True   \n",
       "4                   False                   False                      True   \n",
       "\n",
       "   ocean_proximity_NEAR OCEAN  \n",
       "0                       False  \n",
       "1                       False  \n",
       "2                       False  \n",
       "3                       False  \n",
       "4                       False  "
      ]
     },
     "execution_count": 7,
     "metadata": {},
     "output_type": "execute_result"
    }
   ],
   "source": [
    "# Reload the data\n",
    "data = pd.read_csv(\"cali_housing_modified_cleaned.csv\")\n",
    "# one-hot encoding the ocean_proximity column\n",
    "data = pd.get_dummies(data, columns=[\"ocean_proximity\"], drop_first=True)\n",
    "data.head()"
   ]
  },
  {
   "cell_type": "markdown",
   "metadata": {},
   "source": [
    "And similarly, scikit-learn's OneHotEncoder has a `drop` parameter which we would set to `\"first\"`:"
   ]
  },
  {
   "cell_type": "code",
   "execution_count": 8,
   "metadata": {
    "execution": {
     "iopub.execute_input": "2024-08-31T23:30:53.715386Z",
     "iopub.status.busy": "2024-08-31T23:30:53.715031Z",
     "iopub.status.idle": "2024-08-31T23:30:53.718623Z",
     "shell.execute_reply": "2024-08-31T23:30:53.717976Z",
     "shell.execute_reply.started": "2024-08-31T23:30:53.715369Z"
    }
   },
   "outputs": [],
   "source": [
    "# from sklearn.preprocessing import OneHotEncoder\n",
    "\n",
    "# encoder = OneHotEncoder(drop=\"first\")\n",
    "# ocn_prox_encoded = encoder.fit_transform(data[[\"ocean_proximity\"]])\n",
    "# # `data_encoded` is a sparse matrix; needs to be converted to a DataFrame\n",
    "# ocn_prox_encoded_df = pd.DataFrame(ocn_prox_encoded.toarray(), columns=encoder.categories_)\n",
    "# # Stick these new columns back onto the original dataframe and drop the original\n",
    "# data = pd.concat([data, ocn_prox_encoded_df], axis=1)\n",
    "# data.drop(columns=[\"ocean_proximity\"], inplace=True)\n",
    "\n",
    "# # Specify better names for the new columns\n",
    "# data.columns = data.columns.tolist()[:-5] + [\n",
    "#     \"ocean_proximity_<1H OCEAN\",\n",
    "#     \"ocean_proximity_INLAND\",\n",
    "#     \"ocean_proximity_ISLAND\",\n",
    "#     \"ocean_proximity_NEAR BAY\",\n",
    "#     \"ocean_proximity_NEAR OCEAN\",\n",
    "# ]"
   ]
  },
  {
   "cell_type": "markdown",
   "metadata": {},
   "source": [
    "Next, let's talk about discretization. Maybe we don't care about the exact value of median income or median age, but rather, we just want to know what ranges they fall in if we cut the entire range into 5 pieces. There are 3 different ways to discretize a continuous feature:\n",
    "- We can use equally sized bins, which yields 5 bins of identical widths,\n",
    "- or equal _frequency_ bins so that all bins have the same numebr of samples,\n",
    "- or we can use k-means clustering which is a more advanced algorithm.  \n",
    "\n",
    "Let's discretize `median_income` into equally-sized bins."
   ]
  },
  {
   "cell_type": "code",
   "execution_count": 9,
   "metadata": {
    "execution": {
     "iopub.execute_input": "2024-08-31T23:30:53.720317Z",
     "iopub.status.busy": "2024-08-31T23:30:53.719469Z",
     "iopub.status.idle": "2024-08-31T23:30:53.801270Z",
     "shell.execute_reply": "2024-08-31T23:30:53.800537Z",
     "shell.execute_reply.started": "2024-08-31T23:30:53.720290Z"
    }
   },
   "outputs": [],
   "source": [
    "from sklearn.preprocessing import KBinsDiscretizer\n",
    "\n",
    "# Alternative: use `pandas.cut()`\n",
    "discretizer = KBinsDiscretizer(n_bins=5, strategy=\"uniform\", encode=\"ordinal\")\n",
    "\n",
    "housing_median_age_binned = discretizer.fit_transform(data[[\"median_income\"]])"
   ]
  },
  {
   "cell_type": "code",
   "execution_count": 10,
   "metadata": {
    "execution": {
     "iopub.execute_input": "2024-08-31T23:30:53.802572Z",
     "iopub.status.busy": "2024-08-31T23:30:53.802072Z",
     "iopub.status.idle": "2024-08-31T23:30:53.907463Z",
     "shell.execute_reply": "2024-08-31T23:30:53.906816Z",
     "shell.execute_reply.started": "2024-08-31T23:30:53.802554Z"
    }
   },
   "outputs": [
    {
     "data": {
      "image/png": "[encoded data removed]",
      "text/plain": [
       "<Figure size 640x480 with 1 Axes>"
      ]
     },
     "metadata": {},
     "output_type": "display_data"
    }
   ],
   "source": [
    "# data[\"median_income\"] = pd.DataFrame(housing_median_age_binned)\n",
    "sns.histplot(housing_median_age_binned, bins=[-0.5, 0.5, 1.5, 2.5, 3.5, 4.5])\n",
    "plt.xticks(range(5))\n",
    "plt.show()"
   ]
  },
  {
   "cell_type": "markdown",
   "metadata": {},
   "source": [
    "Now let's use equal-frequency binning to see how it compares to equal width binning."
   ]
  },
  {
   "cell_type": "code",
   "execution_count": 11,
   "metadata": {
    "execution": {
     "iopub.execute_input": "2024-08-31T23:30:53.908507Z",
     "iopub.status.busy": "2024-08-31T23:30:53.908329Z",
     "iopub.status.idle": "2024-08-31T23:30:53.915889Z",
     "shell.execute_reply": "2024-08-31T23:30:53.915097Z",
     "shell.execute_reply.started": "2024-08-31T23:30:53.908491Z"
    },
    "scrolled": true
   },
   "outputs": [],
   "source": [
    "# Alternative: use `pandas.qcut()`\n",
    "discretizer = KBinsDiscretizer(n_bins=5, strategy=\"quantile\", encode=\"ordinal\")\n",
    "\n",
    "median_income_binned = discretizer.fit_transform(data[[\"median_income\"]])"
   ]
  },
  {
   "cell_type": "code",
   "execution_count": 12,
   "metadata": {
    "execution": {
     "iopub.execute_input": "2024-08-31T23:30:53.917150Z",
     "iopub.status.busy": "2024-08-31T23:30:53.916655Z",
     "iopub.status.idle": "2024-08-31T23:30:53.923811Z",
     "shell.execute_reply": "2024-08-31T23:30:53.923079Z",
     "shell.execute_reply.started": "2024-08-31T23:30:53.917123Z"
    }
   },
   "outputs": [
    {
     "data": {
      "text/plain": [
       "median_income\n",
       "2.0    4131\n",
       "4.0    4128\n",
       "3.0    4128\n",
       "1.0    4127\n",
       "0.0    4125\n",
       "Name: count, dtype: int64"
      ]
     },
     "execution_count": 12,
     "metadata": {},
     "output_type": "execute_result"
    }
   ],
   "source": [
    "data[\"median_income\"] = pd.DataFrame(median_income_binned)\n",
    "data[\"median_income\"].value_counts()"
   ]
  },
  {
   "cell_type": "markdown",
   "metadata": {},
   "source": [
    "Last but not least, let's discuss scaling. Remember: to avoid train-test contamination, which is a form of data leakage, we should always scale features after splitting the data, otherwise there will be some information about the test set mixed in with the training set. So in practice, we'd fit the scaler to the training set and then transform both the train and test sets using the same fitted scaler. But since this is just a demonstration of feature scaling, we won't split the data right now.   \n",
    "Okay, let's take a look at the data again..."
   ]
  },
  {
   "cell_type": "code",
   "execution_count": 13,
   "metadata": {
    "execution": {
     "iopub.execute_input": "2024-08-31T23:30:53.925125Z",
     "iopub.status.busy": "2024-08-31T23:30:53.924796Z",
     "iopub.status.idle": "2024-08-31T23:30:53.935532Z",
     "shell.execute_reply": "2024-08-31T23:30:53.934760Z",
     "shell.execute_reply.started": "2024-08-31T23:30:53.925108Z"
    }
   },
   "outputs": [
    {
     "data": {
      "text/html": [
       "<div>\n",
       "<style scoped>\n",
       "    .dataframe tbody tr th:only-of-type {\n",
       "        vertical-align: middle;\n",
       "    }\n",
       "\n",
       "    .dataframe tbody tr th {\n",
       "        vertical-align: top;\n",
       "    }\n",
       "\n",
       "    .dataframe thead th {\n",
       "        text-align: right;\n",
       "    }\n",
       "</style>\n",
       "<table border=\"1\" class=\"dataframe\">\n",
       "  <thead>\n",
       "    <tr style=\"text-align: right;\">\n",
       "      <th></th>\n",
       "      <th>longitude</th>\n",
       "      <th>latitude</th>\n",
       "      <th>housing_median_age</th>\n",
       "      <th>total_rooms</th>\n",
       "      <th>total_bedrooms</th>\n",
       "      <th>population</th>\n",
       "      <th>households</th>\n",
       "      <th>median_income</th>\n",
       "      <th>median_house_value</th>\n",
       "      <th>ocean_proximity_INLAND</th>\n",
       "      <th>ocean_proximity_ISLAND</th>\n",
       "      <th>ocean_proximity_NEAR BAY</th>\n",
       "      <th>ocean_proximity_NEAR OCEAN</th>\n",
       "    </tr>\n",
       "  </thead>\n",
       "  <tbody>\n",
       "    <tr>\n",
       "      <th>0</th>\n",
       "      <td>-122.23</td>\n",
       "      <td>37.88</td>\n",
       "      <td>41</td>\n",
       "      <td>880</td>\n",
       "      <td>129.0</td>\n",
       "      <td>322</td>\n",
       "      <td>126</td>\n",
       "      <td>4.0</td>\n",
       "      <td>452600.0</td>\n",
       "      <td>False</td>\n",
       "      <td>False</td>\n",
       "      <td>True</td>\n",
       "      <td>False</td>\n",
       "    </tr>\n",
       "    <tr>\n",
       "      <th>1</th>\n",
       "      <td>-122.22</td>\n",
       "      <td>37.86</td>\n",
       "      <td>21</td>\n",
       "      <td>7099</td>\n",
       "      <td>1106.0</td>\n",
       "      <td>2401</td>\n",
       "      <td>1138</td>\n",
       "      <td>4.0</td>\n",
       "      <td>358500.0</td>\n",
       "      <td>False</td>\n",
       "      <td>False</td>\n",
       "      <td>True</td>\n",
       "      <td>False</td>\n",
       "    </tr>\n",
       "    <tr>\n",
       "      <th>2</th>\n",
       "      <td>-122.24</td>\n",
       "      <td>37.85</td>\n",
       "      <td>52</td>\n",
       "      <td>1467</td>\n",
       "      <td>190.0</td>\n",
       "      <td>496</td>\n",
       "      <td>177</td>\n",
       "      <td>4.0</td>\n",
       "      <td>352100.0</td>\n",
       "      <td>False</td>\n",
       "      <td>False</td>\n",
       "      <td>True</td>\n",
       "      <td>False</td>\n",
       "    </tr>\n",
       "    <tr>\n",
       "      <th>3</th>\n",
       "      <td>-122.25</td>\n",
       "      <td>37.85</td>\n",
       "      <td>52</td>\n",
       "      <td>1274</td>\n",
       "      <td>235.0</td>\n",
       "      <td>558</td>\n",
       "      <td>219</td>\n",
       "      <td>4.0</td>\n",
       "      <td>341300.0</td>\n",
       "      <td>False</td>\n",
       "      <td>False</td>\n",
       "      <td>True</td>\n",
       "      <td>False</td>\n",
       "    </tr>\n",
       "    <tr>\n",
       "      <th>4</th>\n",
       "      <td>-122.25</td>\n",
       "      <td>37.85</td>\n",
       "      <td>52</td>\n",
       "      <td>1627</td>\n",
       "      <td>280.0</td>\n",
       "      <td>565</td>\n",
       "      <td>259</td>\n",
       "      <td>2.0</td>\n",
       "      <td>342200.0</td>\n",
       "      <td>False</td>\n",
       "      <td>False</td>\n",
       "      <td>True</td>\n",
       "      <td>False</td>\n",
       "    </tr>\n",
       "  </tbody>\n",
       "</table>\n",
       "</div>"
      ],
      "text/plain": [
       "   longitude  latitude  housing_median_age  total_rooms  total_bedrooms  \\\n",
       "0    -122.23     37.88                  41          880           129.0   \n",
       "1    -122.22     37.86                  21         7099          1106.0   \n",
       "2    -122.24     37.85                  52         1467           190.0   \n",
       "3    -122.25     37.85                  52         1274           235.0   \n",
       "4    -122.25     37.85                  52         1627           280.0   \n",
       "\n",
       "   population  households  median_income  median_house_value  \\\n",
       "0         322         126            4.0            452600.0   \n",
       "1        2401        1138            4.0            358500.0   \n",
       "2         496         177            4.0            352100.0   \n",
       "3         558         219            4.0            341300.0   \n",
       "4         565         259            2.0            342200.0   \n",
       "\n",
       "   ocean_proximity_INLAND  ocean_proximity_ISLAND  ocean_proximity_NEAR BAY  \\\n",
       "0                   False                   False                      True   \n",
       "1                   False                   False                      True   \n",
       "2                   False                   False                      True   \n",
       "3                   False                   False                      True   \n",
       "4                   False                   False                      True   \n",
       "\n",
       "   ocean_proximity_NEAR OCEAN  \n",
       "0                       False  \n",
       "1                       False  \n",
       "2                       False  \n",
       "3                       False  \n",
       "4                       False  "
      ]
     },
     "execution_count": 13,
     "metadata": {},
     "output_type": "execute_result"
    }
   ],
   "source": [
    "data.head()"
   ]
  },
  {
   "cell_type": "markdown",
   "metadata": {},
   "source": [
    "Looking good so far. The values in each column occupy vastly differnt ranges. Median income has units of $10K whereas house values are in absolute dollars. ML models that are distance-based will severly undeperform if the features are not scaled.  \n",
    "The choice of scaling method is really up to us. Let's see the three main ones in practice.  \n",
    "I'm going to use Min-Max Scaling AKA Normalization on total rooms... This basically just shrinks the values so that they all fall between 0 and 1 but the ratios between them doesn't change."
   ]
  },
  {
   "cell_type": "code",
   "execution_count": 14,
   "metadata": {
    "execution": {
     "iopub.execute_input": "2024-08-31T23:30:53.936848Z",
     "iopub.status.busy": "2024-08-31T23:30:53.936486Z",
     "iopub.status.idle": "2024-08-31T23:30:53.954587Z",
     "shell.execute_reply": "2024-08-31T23:30:53.953582Z",
     "shell.execute_reply.started": "2024-08-31T23:30:53.936828Z"
    }
   },
   "outputs": [
    {
     "data": {
      "text/plain": [
       "count    20639.000000\n",
       "mean         0.066987\n",
       "std          0.055488\n",
       "min          0.000000\n",
       "25%          0.036764\n",
       "50%          0.054046\n",
       "75%          0.080014\n",
       "max          1.000000\n",
       "Name: total_rooms, dtype: float64"
      ]
     },
     "execution_count": 14,
     "metadata": {},
     "output_type": "execute_result"
    }
   ],
   "source": [
    "from sklearn.preprocessing import MinMaxScaler\n",
    "data[\"total_rooms\"] = MinMaxScaler().fit_transform(data[[\"total_rooms\"]])\n",
    "data[\"total_rooms\"].describe()"
   ]
  },
  {
   "cell_type": "markdown",
   "metadata": {},
   "source": [
    "Let's use Standardization on the median age column. This puts the values on a Standard Gaussian curve and is good for data that is more or less normally distributed to begin with."
   ]
  },
  {
   "cell_type": "code",
   "execution_count": 15,
   "metadata": {
    "execution": {
     "iopub.execute_input": "2024-08-31T23:30:53.956305Z",
     "iopub.status.busy": "2024-08-31T23:30:53.955793Z",
     "iopub.status.idle": "2024-08-31T23:30:54.094957Z",
     "shell.execute_reply": "2024-08-31T23:30:54.094192Z",
     "shell.execute_reply.started": "2024-08-31T23:30:53.956274Z"
    }
   },
   "outputs": [
    {
     "data": {
      "text/plain": [
       "<Axes: >"
      ]
     },
     "execution_count": 15,
     "metadata": {},
     "output_type": "execute_result"
    },
    {
     "data": {
      "image/png": "[encoded data removed]",
      "text/plain": [
       "<Figure size 640x480 with 1 Axes>"
      ]
     },
     "metadata": {},
     "output_type": "display_data"
    }
   ],
   "source": [
    "from sklearn.preprocessing import StandardScaler\n",
    "data[\"housing_median_age\"] = StandardScaler().fit_transform(data[[\"housing_median_age\"]])\n",
    "data[\"housing_median_age\"].hist(bins=50)"
   ]
  },
  {
   "cell_type": "markdown",
   "metadata": {},
   "source": [
    "Now the values are centered around zero with a standard deviation of one. But evidently they were not really normally distributed. Especially when we have a lot of outliers, robust scaling is preferred..."
   ]
  },
  {
   "cell_type": "code",
   "execution_count": 16,
   "metadata": {
    "execution": {
     "iopub.execute_input": "2024-08-31T23:30:54.096308Z",
     "iopub.status.busy": "2024-08-31T23:30:54.095753Z",
     "iopub.status.idle": "2024-08-31T23:30:54.216826Z",
     "shell.execute_reply": "2024-08-31T23:30:54.216134Z",
     "shell.execute_reply.started": "2024-08-31T23:30:54.096287Z"
    }
   },
   "outputs": [
    {
     "data": {
      "image/png": "[encoded data removed]",
      "text/plain": [
       "<Figure size 640x480 with 1 Axes>"
      ]
     },
     "metadata": {},
     "output_type": "display_data"
    }
   ],
   "source": [
    "from sklearn.preprocessing import RobustScaler\n",
    "data[\"population\"] = RobustScaler().fit_transform(data[[\"population\"]])\n",
    "data[\"population\"].hist(bins=50);"
   ]
  },
  {
   "cell_type": "markdown",
   "metadata": {},
   "source": [
    "We went from values in the 10s of thousands range to much smaller values."
   ]
  },
  {
   "cell_type": "markdown",
   "metadata": {},
   "source": [
    "Two points to note:\n",
    "> One is that in practice you usually want to use the same scaler for all features, especially if they have similar distributions. If you recall from the first demo, a number of our features all had very similar distributions, so we should use the same scaler on them.  \n",
    "\n",
    "> The other one is that generally scaling the target variable is not as critically important as scaling features, but especially in regression tasks it helps numerical stability, especially if we're dealing with very small or very large numbers."
   ]
  }
 ],
 "metadata": {
  "kernelspec": {
   "display_name": "Python 3 (ipykernel)",
   "language": "python",
   "name": "python3"
  },
  "language_info": {
   "codemirror_mode": {
    "name": "ipython",
    "version": 3
   },
   "file_extension": ".py",
   "mimetype": "text/x-python",
   "name": "python",
   "nbconvert_exporter": "python",
   "pygments_lexer": "ipython3",
   "version": "3.10.6"
  }
 },
 "nbformat": 4,
 "nbformat_minor": 4
}
