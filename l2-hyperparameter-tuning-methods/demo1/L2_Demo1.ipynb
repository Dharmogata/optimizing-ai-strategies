{
 "cells": [
  {
   "cell_type": "markdown",
   "id": "aa6412f5-8570-4b4e-b177-f31a172c4ae8",
   "metadata": {},
   "source": [
    "# (Basic) Cross-Validation"
   ]
  },
  {
   "cell_type": "markdown",
   "id": "84f4ae3a",
   "metadata": {},
   "source": [
    "The main topic of this demo is cross-validation but I'd also like to talk about the train-test split."
   ]
  },
  {
   "cell_type": "code",
   "execution_count": 35,
   "id": "a6a0d77e-2d50-4bca-8875-4aa4e552899d",
   "metadata": {},
   "outputs": [],
   "source": [
    "import pandas as pd\n",
    "from matplotlib import pyplot as plt"
   ]
  },
  {
   "cell_type": "markdown",
   "id": "aa633335",
   "metadata": {},
   "source": [
    "This is the original California Housing dataset before any data cleaning and feature engineering or scaling. Let's see how we would do these two things properly."
   ]
  },
  {
   "cell_type": "code",
   "execution_count": 2,
   "id": "43532e29",
   "metadata": {},
   "outputs": [
    {
     "data": {
      "text/html": [
       "<div>\n",
       "<style scoped>\n",
       "    .dataframe tbody tr th:only-of-type {\n",
       "        vertical-align: middle;\n",
       "    }\n",
       "\n",
       "    .dataframe tbody tr th {\n",
       "        vertical-align: top;\n",
       "    }\n",
       "\n",
       "    .dataframe thead th {\n",
       "        text-align: right;\n",
       "    }\n",
       "</style>\n",
       "<table border=\"1\" class=\"dataframe\">\n",
       "  <thead>\n",
       "    <tr style=\"text-align: right;\">\n",
       "      <th></th>\n",
       "      <th>longitude</th>\n",
       "      <th>latitude</th>\n",
       "      <th>housing_median_age</th>\n",
       "      <th>total_rooms</th>\n",
       "      <th>total_bedrooms</th>\n",
       "      <th>population</th>\n",
       "      <th>households</th>\n",
       "      <th>median_income</th>\n",
       "      <th>median_house_value</th>\n",
       "    </tr>\n",
       "  </thead>\n",
       "  <tbody>\n",
       "    <tr>\n",
       "      <th>count</th>\n",
       "      <td>20640.000000</td>\n",
       "      <td>20640.000000</td>\n",
       "      <td>20640.000000</td>\n",
       "      <td>20640.000000</td>\n",
       "      <td>20433.000000</td>\n",
       "      <td>20640.000000</td>\n",
       "      <td>20640.000000</td>\n",
       "      <td>20640.000000</td>\n",
       "      <td>20640.000000</td>\n",
       "    </tr>\n",
       "    <tr>\n",
       "      <th>mean</th>\n",
       "      <td>-119.569704</td>\n",
       "      <td>35.631861</td>\n",
       "      <td>28.639486</td>\n",
       "      <td>2635.763081</td>\n",
       "      <td>537.870553</td>\n",
       "      <td>1425.476744</td>\n",
       "      <td>499.539680</td>\n",
       "      <td>3.870671</td>\n",
       "      <td>206855.816909</td>\n",
       "    </tr>\n",
       "    <tr>\n",
       "      <th>std</th>\n",
       "      <td>2.003532</td>\n",
       "      <td>2.135952</td>\n",
       "      <td>12.585558</td>\n",
       "      <td>2181.615252</td>\n",
       "      <td>421.385070</td>\n",
       "      <td>1132.462122</td>\n",
       "      <td>382.329753</td>\n",
       "      <td>1.899822</td>\n",
       "      <td>115395.615874</td>\n",
       "    </tr>\n",
       "    <tr>\n",
       "      <th>min</th>\n",
       "      <td>-124.350000</td>\n",
       "      <td>32.540000</td>\n",
       "      <td>1.000000</td>\n",
       "      <td>2.000000</td>\n",
       "      <td>1.000000</td>\n",
       "      <td>3.000000</td>\n",
       "      <td>1.000000</td>\n",
       "      <td>0.499900</td>\n",
       "      <td>14999.000000</td>\n",
       "    </tr>\n",
       "    <tr>\n",
       "      <th>25%</th>\n",
       "      <td>-121.800000</td>\n",
       "      <td>33.930000</td>\n",
       "      <td>18.000000</td>\n",
       "      <td>1447.750000</td>\n",
       "      <td>296.000000</td>\n",
       "      <td>787.000000</td>\n",
       "      <td>280.000000</td>\n",
       "      <td>2.563400</td>\n",
       "      <td>119600.000000</td>\n",
       "    </tr>\n",
       "    <tr>\n",
       "      <th>50%</th>\n",
       "      <td>-118.490000</td>\n",
       "      <td>34.260000</td>\n",
       "      <td>29.000000</td>\n",
       "      <td>2127.000000</td>\n",
       "      <td>435.000000</td>\n",
       "      <td>1166.000000</td>\n",
       "      <td>409.000000</td>\n",
       "      <td>3.534800</td>\n",
       "      <td>179700.000000</td>\n",
       "    </tr>\n",
       "    <tr>\n",
       "      <th>75%</th>\n",
       "      <td>-118.010000</td>\n",
       "      <td>37.710000</td>\n",
       "      <td>37.000000</td>\n",
       "      <td>3148.000000</td>\n",
       "      <td>647.000000</td>\n",
       "      <td>1725.000000</td>\n",
       "      <td>605.000000</td>\n",
       "      <td>4.743250</td>\n",
       "      <td>264725.000000</td>\n",
       "    </tr>\n",
       "    <tr>\n",
       "      <th>max</th>\n",
       "      <td>-114.310000</td>\n",
       "      <td>41.950000</td>\n",
       "      <td>52.000000</td>\n",
       "      <td>39320.000000</td>\n",
       "      <td>6445.000000</td>\n",
       "      <td>35682.000000</td>\n",
       "      <td>6082.000000</td>\n",
       "      <td>15.000100</td>\n",
       "      <td>500001.000000</td>\n",
       "    </tr>\n",
       "  </tbody>\n",
       "</table>\n",
       "</div>"
      ],
      "text/plain": [
       "          longitude      latitude  housing_median_age   total_rooms  \\\n",
       "count  20640.000000  20640.000000        20640.000000  20640.000000   \n",
       "mean    -119.569704     35.631861           28.639486   2635.763081   \n",
       "std        2.003532      2.135952           12.585558   2181.615252   \n",
       "min     -124.350000     32.540000            1.000000      2.000000   \n",
       "25%     -121.800000     33.930000           18.000000   1447.750000   \n",
       "50%     -118.490000     34.260000           29.000000   2127.000000   \n",
       "75%     -118.010000     37.710000           37.000000   3148.000000   \n",
       "max     -114.310000     41.950000           52.000000  39320.000000   \n",
       "\n",
       "       total_bedrooms    population    households  median_income  \\\n",
       "count    20433.000000  20640.000000  20640.000000   20640.000000   \n",
       "mean       537.870553   1425.476744    499.539680       3.870671   \n",
       "std        421.385070   1132.462122    382.329753       1.899822   \n",
       "min          1.000000      3.000000      1.000000       0.499900   \n",
       "25%        296.000000    787.000000    280.000000       2.563400   \n",
       "50%        435.000000   1166.000000    409.000000       3.534800   \n",
       "75%        647.000000   1725.000000    605.000000       4.743250   \n",
       "max       6445.000000  35682.000000   6082.000000      15.000100   \n",
       "\n",
       "       median_house_value  \n",
       "count        20640.000000  \n",
       "mean        206855.816909  \n",
       "std         115395.615874  \n",
       "min          14999.000000  \n",
       "25%         119600.000000  \n",
       "50%         179700.000000  \n",
       "75%         264725.000000  \n",
       "max         500001.000000  "
      ]
     },
     "execution_count": 2,
     "metadata": {},
     "output_type": "execute_result"
    }
   ],
   "source": [
    "data = pd.read_csv(\"cali_housing.csv\")\n",
    "data.describe()"
   ]
  },
  {
   "cell_type": "code",
   "execution_count": 3,
   "id": "944cccee",
   "metadata": {},
   "outputs": [
    {
     "name": "stdout",
     "output_type": "stream",
     "text": [
      "<class 'pandas.core.frame.DataFrame'>\n",
      "RangeIndex: 20640 entries, 0 to 20639\n",
      "Data columns (total 10 columns):\n",
      " #   Column              Non-Null Count  Dtype  \n",
      "---  ------              --------------  -----  \n",
      " 0   longitude           20640 non-null  float64\n",
      " 1   latitude            20640 non-null  float64\n",
      " 2   housing_median_age  20640 non-null  float64\n",
      " 3   total_rooms         20640 non-null  float64\n",
      " 4   total_bedrooms      20433 non-null  float64\n",
      " 5   population          20640 non-null  float64\n",
      " 6   households          20640 non-null  float64\n",
      " 7   median_income       20640 non-null  float64\n",
      " 8   median_house_value  20640 non-null  float64\n",
      " 9   ocean_proximity     20640 non-null  object \n",
      "dtypes: float64(9), object(1)\n",
      "memory usage: 1.6+ MB\n"
     ]
    }
   ],
   "source": [
    "data.info()"
   ]
  },
  {
   "cell_type": "code",
   "execution_count": 4,
   "id": "4c6f9ad0",
   "metadata": {},
   "outputs": [
    {
     "data": {
      "text/plain": [
       "longitude               0\n",
       "latitude                0\n",
       "housing_median_age      0\n",
       "total_rooms             0\n",
       "total_bedrooms        207\n",
       "population              0\n",
       "households              0\n",
       "median_income           0\n",
       "median_house_value      0\n",
       "ocean_proximity         0\n",
       "dtype: int64"
      ]
     },
     "execution_count": 4,
     "metadata": {},
     "output_type": "execute_result"
    }
   ],
   "source": [
    "data.isna().sum()"
   ]
  },
  {
   "cell_type": "code",
   "execution_count": 5,
   "id": "7e85a18e",
   "metadata": {},
   "outputs": [
    {
     "data": {
      "text/plain": [
       "np.int64(0)"
      ]
     },
     "execution_count": 5,
     "metadata": {},
     "output_type": "execute_result"
    }
   ],
   "source": [
    "data.duplicated().sum()"
   ]
  },
  {
   "cell_type": "markdown",
   "id": "96dec8b4",
   "metadata": {},
   "source": [
    "The dataset is already fairly clean. I'm just going to encode the categorical column `ocean_proximity` and drop the outliers in `median_house_value`."
   ]
  },
  {
   "cell_type": "code",
   "execution_count": 6,
   "id": "d3524c99",
   "metadata": {},
   "outputs": [
    {
     "data": {
      "text/html": [
       "<div>\n",
       "<style scoped>\n",
       "    .dataframe tbody tr th:only-of-type {\n",
       "        vertical-align: middle;\n",
       "    }\n",
       "\n",
       "    .dataframe tbody tr th {\n",
       "        vertical-align: top;\n",
       "    }\n",
       "\n",
       "    .dataframe thead th {\n",
       "        text-align: right;\n",
       "    }\n",
       "</style>\n",
       "<table border=\"1\" class=\"dataframe\">\n",
       "  <thead>\n",
       "    <tr style=\"text-align: right;\">\n",
       "      <th></th>\n",
       "      <th>longitude</th>\n",
       "      <th>latitude</th>\n",
       "      <th>housing_median_age</th>\n",
       "      <th>total_rooms</th>\n",
       "      <th>total_bedrooms</th>\n",
       "      <th>population</th>\n",
       "      <th>households</th>\n",
       "      <th>median_income</th>\n",
       "      <th>median_house_value</th>\n",
       "      <th>ocean_proximity_INLAND</th>\n",
       "      <th>ocean_proximity_ISLAND</th>\n",
       "      <th>ocean_proximity_NEAR BAY</th>\n",
       "      <th>ocean_proximity_NEAR OCEAN</th>\n",
       "    </tr>\n",
       "  </thead>\n",
       "  <tbody>\n",
       "    <tr>\n",
       "      <th>0</th>\n",
       "      <td>-122.23</td>\n",
       "      <td>37.88</td>\n",
       "      <td>41.0</td>\n",
       "      <td>880.0</td>\n",
       "      <td>129.0</td>\n",
       "      <td>322.0</td>\n",
       "      <td>126.0</td>\n",
       "      <td>8.3252</td>\n",
       "      <td>452600.0</td>\n",
       "      <td>False</td>\n",
       "      <td>False</td>\n",
       "      <td>True</td>\n",
       "      <td>False</td>\n",
       "    </tr>\n",
       "    <tr>\n",
       "      <th>1</th>\n",
       "      <td>-122.22</td>\n",
       "      <td>37.86</td>\n",
       "      <td>21.0</td>\n",
       "      <td>7099.0</td>\n",
       "      <td>1106.0</td>\n",
       "      <td>2401.0</td>\n",
       "      <td>1138.0</td>\n",
       "      <td>8.3014</td>\n",
       "      <td>358500.0</td>\n",
       "      <td>False</td>\n",
       "      <td>False</td>\n",
       "      <td>True</td>\n",
       "      <td>False</td>\n",
       "    </tr>\n",
       "    <tr>\n",
       "      <th>2</th>\n",
       "      <td>-122.24</td>\n",
       "      <td>37.85</td>\n",
       "      <td>52.0</td>\n",
       "      <td>1467.0</td>\n",
       "      <td>190.0</td>\n",
       "      <td>496.0</td>\n",
       "      <td>177.0</td>\n",
       "      <td>7.2574</td>\n",
       "      <td>352100.0</td>\n",
       "      <td>False</td>\n",
       "      <td>False</td>\n",
       "      <td>True</td>\n",
       "      <td>False</td>\n",
       "    </tr>\n",
       "    <tr>\n",
       "      <th>3</th>\n",
       "      <td>-122.25</td>\n",
       "      <td>37.85</td>\n",
       "      <td>52.0</td>\n",
       "      <td>1274.0</td>\n",
       "      <td>235.0</td>\n",
       "      <td>558.0</td>\n",
       "      <td>219.0</td>\n",
       "      <td>5.6431</td>\n",
       "      <td>341300.0</td>\n",
       "      <td>False</td>\n",
       "      <td>False</td>\n",
       "      <td>True</td>\n",
       "      <td>False</td>\n",
       "    </tr>\n",
       "    <tr>\n",
       "      <th>4</th>\n",
       "      <td>-122.25</td>\n",
       "      <td>37.85</td>\n",
       "      <td>52.0</td>\n",
       "      <td>1627.0</td>\n",
       "      <td>280.0</td>\n",
       "      <td>565.0</td>\n",
       "      <td>259.0</td>\n",
       "      <td>3.8462</td>\n",
       "      <td>342200.0</td>\n",
       "      <td>False</td>\n",
       "      <td>False</td>\n",
       "      <td>True</td>\n",
       "      <td>False</td>\n",
       "    </tr>\n",
       "  </tbody>\n",
       "</table>\n",
       "</div>"
      ],
      "text/plain": [
       "   longitude  latitude  housing_median_age  total_rooms  total_bedrooms  \\\n",
       "0    -122.23     37.88                41.0        880.0           129.0   \n",
       "1    -122.22     37.86                21.0       7099.0          1106.0   \n",
       "2    -122.24     37.85                52.0       1467.0           190.0   \n",
       "3    -122.25     37.85                52.0       1274.0           235.0   \n",
       "4    -122.25     37.85                52.0       1627.0           280.0   \n",
       "\n",
       "   population  households  median_income  median_house_value  \\\n",
       "0       322.0       126.0         8.3252            452600.0   \n",
       "1      2401.0      1138.0         8.3014            358500.0   \n",
       "2       496.0       177.0         7.2574            352100.0   \n",
       "3       558.0       219.0         5.6431            341300.0   \n",
       "4       565.0       259.0         3.8462            342200.0   \n",
       "\n",
       "   ocean_proximity_INLAND  ocean_proximity_ISLAND  ocean_proximity_NEAR BAY  \\\n",
       "0                   False                   False                      True   \n",
       "1                   False                   False                      True   \n",
       "2                   False                   False                      True   \n",
       "3                   False                   False                      True   \n",
       "4                   False                   False                      True   \n",
       "\n",
       "   ocean_proximity_NEAR OCEAN  \n",
       "0                       False  \n",
       "1                       False  \n",
       "2                       False  \n",
       "3                       False  \n",
       "4                       False  "
      ]
     },
     "execution_count": 6,
     "metadata": {},
     "output_type": "execute_result"
    }
   ],
   "source": [
    "data = pd.get_dummies(data, columns=[\"ocean_proximity\"], drop_first=True)\n",
    "# Drop rows of data where `median_house_value` is greater than 500000\n",
    "data = data[data[\"median_house_value\"] <= 500000]\n",
    "data.head()"
   ]
  },
  {
   "cell_type": "markdown",
   "id": "769386f5",
   "metadata": {},
   "source": [
    "As for data prep, we just need to take care of those 207 rows missing `total_bedrooms`. If we were dropping those rows or the `total_bedrooms` feature altogether, we could go ahead and do that right now. But I'd like to *impute* those missing values with the mean or median. Here's the problem: that would inject information about the entire dataset into those missing rows, which would create data leakage if we carved out the test set afterwards. That's why such techniques should always be applied after the split. The same reasoning goes for feature scaling.  \n",
    "So let's talk about the train-test split first.  \n",
    "Now before splitting the data, we need to specify what columns are features and what is a target. I'm going to use X for our matrix of features and y for the target."
   ]
  },
  {
   "cell_type": "code",
   "execution_count": 7,
   "id": "a935a405",
   "metadata": {},
   "outputs": [],
   "source": [
    "# Define target and features\n",
    "X = data.drop([\"median_house_value\"], axis=1)\n",
    "y = data[\"median_house_value\"]"
   ]
  },
  {
   "cell_type": "markdown",
   "id": "78c79918",
   "metadata": {},
   "source": [
    "Now we can split the data. Let's say we want to use 20% of the whole dataset for testing. This is also where we can have scikit-learn shuffle the dataset for us, which is good practice in general machine learning, but not advised for temporal data which is what we usually deal with in models for trading. But here our data does not have a time dimension so I'm going to shuffle the data."
   ]
  },
  {
   "cell_type": "code",
   "execution_count": 8,
   "id": "cd944b78",
   "metadata": {},
   "outputs": [],
   "source": [
    "# Split data into training and testing sets\n",
    "from sklearn.model_selection import train_test_split\n",
    "X_train, X_test, y_train, y_test = train_test_split(X, y, shuffle=True, test_size=0.2, random_state=52)"
   ]
  },
  {
   "cell_type": "markdown",
   "id": "bb71b0de",
   "metadata": {},
   "source": [
    "Rememeber the dataset had around 21,000 rows. Let's see if the split worked as expected:"
   ]
  },
  {
   "cell_type": "code",
   "execution_count": 9,
   "id": "53925c61",
   "metadata": {},
   "outputs": [
    {
     "data": {
      "text/plain": [
       "((15740, 12), (3935, 12), (15740,), (3935,))"
      ]
     },
     "execution_count": 9,
     "metadata": {},
     "output_type": "execute_result"
    }
   ],
   "source": [
    "X_train.shape, X_test.shape, y_train.shape, y_test.shape"
   ]
  },
  {
   "cell_type": "markdown",
   "id": "a3748de8",
   "metadata": {},
   "source": [
    "Yep, those numbers make sense. Let's take a look at how those missing rows are spread between training and test sets now..."
   ]
  },
  {
   "cell_type": "code",
   "execution_count": 10,
   "id": "c643326a",
   "metadata": {},
   "outputs": [
    {
     "data": {
      "text/plain": [
       "(np.int64(162), np.int64(38))"
      ]
     },
     "execution_count": 10,
     "metadata": {},
     "output_type": "execute_result"
    }
   ],
   "source": [
    "X_train[\"total_bedrooms\"].isna().sum(), X_test[\"total_bedrooms\"].isna().sum()"
   ]
  },
  {
   "cell_type": "markdown",
   "id": "d54bc454",
   "metadata": {},
   "source": [
    "This is why we didn't impute before the split.  \n",
    "*Now* we can impute missing rows and this is how we do that correctly:"
   ]
  },
  {
   "cell_type": "code",
   "execution_count": 11,
   "id": "2ccd16b1",
   "metadata": {},
   "outputs": [],
   "source": [
    "# Impute missing values in training and testing sets for the columns with missing values\n",
    "from sklearn.impute import SimpleImputer\n",
    "imputer = SimpleImputer(strategy=\"median\")\n",
    "X_train_imputed = imputer.fit_transform(X_train)\n",
    "X_test_imputed = imputer.transform(X_test)"
   ]
  },
  {
   "cell_type": "markdown",
   "id": "54332ac6",
   "metadata": {},
   "source": [
    "Note that I applied `fit_transform()` to X_train and only `transform()` to X_test. This means I'm fitting, that is calculating the median, from the training set only, and then injecting that into missing values in both the training and test sets.  \n",
    "See if we had done this before the split, the median would have been:"
   ]
  },
  {
   "cell_type": "code",
   "execution_count": 12,
   "id": "42addad1",
   "metadata": {},
   "outputs": [
    {
     "data": {
      "text/plain": [
       "np.float64(436.0)"
      ]
     },
     "execution_count": 12,
     "metadata": {},
     "output_type": "execute_result"
    }
   ],
   "source": [
    "X[\"total_bedrooms\"].median()"
   ]
  },
  {
   "cell_type": "markdown",
   "id": "6f136c32",
   "metadata": {},
   "source": [
    "But because it's calculated over `X_train` only, this is the value that'll be used to fill missing `total_bedrooms`:"
   ]
  },
  {
   "cell_type": "code",
   "execution_count": 13,
   "id": "a0c519fd",
   "metadata": {},
   "outputs": [
    {
     "data": {
      "text/plain": [
       "np.float64(435.0)"
      ]
     },
     "execution_count": 13,
     "metadata": {},
     "output_type": "execute_result"
    }
   ],
   "source": [
    "imputer.statistics_[4]"
   ]
  },
  {
   "cell_type": "markdown",
   "id": "bb06b1ad",
   "metadata": {},
   "source": [
    "Feature scaling should also be done in this same manner: Fit to the training set, transform both sets with the fitted scaler.  "
   ]
  },
  {
   "cell_type": "code",
   "execution_count": 14,
   "id": "683fc0fa",
   "metadata": {},
   "outputs": [],
   "source": [
    "# Standardize the training and testing data\n",
    "from sklearn.preprocessing import StandardScaler\n",
    "scaler = StandardScaler()\n",
    "X_train_imputed_scaled = scaler.fit_transform(X_train_imputed)\n",
    "X_test_imputed_scaled = scaler.transform(X_test_imputed)\n"
   ]
  },
  {
   "cell_type": "markdown",
   "id": "222992ba",
   "metadata": {},
   "source": [
    "Let's take a look at the result:"
   ]
  },
  {
   "cell_type": "code",
   "execution_count": 15,
   "id": "a1e3a306",
   "metadata": {},
   "outputs": [
    {
     "data": {
      "text/plain": [
       "array([[ 0.25568292,  0.1471285 , -0.82875982, ..., -0.01380701,\n",
       "        -0.3446328 , -0.37681097],\n",
       "       [ 0.97427309, -0.8945114 ,  0.60417032, ..., -0.01380701,\n",
       "        -0.3446328 , -0.37681097],\n",
       "       [-0.08365132, -0.56434875,  0.36534863, ..., -0.01380701,\n",
       "        -0.3446328 , -0.37681097],\n",
       "       ...,\n",
       "       [ 0.61497801, -0.72710498,  1.40024262, ..., -0.01380701,\n",
       "        -0.3446328 , -0.37681097],\n",
       "       [ 0.73474303, -0.86661033,  0.12652694, ..., -0.01380701,\n",
       "        -0.3446328 , -0.37681097],\n",
       "       [ 0.94932204, -0.92706264, -1.06758151, ..., -0.01380701,\n",
       "        -0.3446328 , -0.37681097]])"
      ]
     },
     "execution_count": 15,
     "metadata": {},
     "output_type": "execute_result"
    }
   ],
   "source": [
    "X_train_imputed_scaled"
   ]
  },
  {
   "cell_type": "markdown",
   "id": "f56329a8",
   "metadata": {},
   "source": [
    "One slight inconvenience is that these scikit-learn functions convert Pandas DataFrames to Numpy arrays, which gets rid of the column names. They do this because numpy arrrays are much more efficient for model training and besides the extra metadata like column names are not needed for ML. But fortunately the order of data is preserved, so we can just re-cast the data as a DataFrame and stick the column names back on.  \n",
    "You'll also notice that the boolean values for our one-hot-encoded columns have been changed to zeros and ones, which is absolutely fine. Those are equivalent."
   ]
  },
  {
   "cell_type": "code",
   "execution_count": 20,
   "id": "cfad3d39",
   "metadata": {},
   "outputs": [
    {
     "data": {
      "text/html": [
       "<div>\n",
       "<style scoped>\n",
       "    .dataframe tbody tr th:only-of-type {\n",
       "        vertical-align: middle;\n",
       "    }\n",
       "\n",
       "    .dataframe tbody tr th {\n",
       "        vertical-align: top;\n",
       "    }\n",
       "\n",
       "    .dataframe thead th {\n",
       "        text-align: right;\n",
       "    }\n",
       "</style>\n",
       "<table border=\"1\" class=\"dataframe\">\n",
       "  <thead>\n",
       "    <tr style=\"text-align: right;\">\n",
       "      <th></th>\n",
       "      <th>longitude</th>\n",
       "      <th>latitude</th>\n",
       "      <th>housing_median_age</th>\n",
       "      <th>total_rooms</th>\n",
       "      <th>total_bedrooms</th>\n",
       "      <th>population</th>\n",
       "      <th>households</th>\n",
       "      <th>median_income</th>\n",
       "      <th>ocean_proximity_INLAND</th>\n",
       "      <th>ocean_proximity_ISLAND</th>\n",
       "      <th>ocean_proximity_NEAR BAY</th>\n",
       "      <th>ocean_proximity_NEAR OCEAN</th>\n",
       "    </tr>\n",
       "  </thead>\n",
       "  <tbody>\n",
       "    <tr>\n",
       "      <th>0</th>\n",
       "      <td>0.255683</td>\n",
       "      <td>0.147129</td>\n",
       "      <td>-0.828760</td>\n",
       "      <td>-0.646014</td>\n",
       "      <td>-0.543102</td>\n",
       "      <td>-0.085303</td>\n",
       "      <td>-0.579551</td>\n",
       "      <td>-1.149582</td>\n",
       "      <td>1.417590</td>\n",
       "      <td>-0.013807</td>\n",
       "      <td>-0.344633</td>\n",
       "      <td>-0.376811</td>\n",
       "    </tr>\n",
       "    <tr>\n",
       "      <th>1</th>\n",
       "      <td>0.974273</td>\n",
       "      <td>-0.894511</td>\n",
       "      <td>0.604170</td>\n",
       "      <td>-0.587513</td>\n",
       "      <td>-0.731338</td>\n",
       "      <td>-0.784634</td>\n",
       "      <td>-0.742218</td>\n",
       "      <td>1.244613</td>\n",
       "      <td>-0.705423</td>\n",
       "      <td>-0.013807</td>\n",
       "      <td>-0.344633</td>\n",
       "      <td>-0.376811</td>\n",
       "    </tr>\n",
       "    <tr>\n",
       "      <th>2</th>\n",
       "      <td>-0.083651</td>\n",
       "      <td>-0.564349</td>\n",
       "      <td>0.365349</td>\n",
       "      <td>-0.717565</td>\n",
       "      <td>-0.380750</td>\n",
       "      <td>-0.593438</td>\n",
       "      <td>-0.375572</td>\n",
       "      <td>-0.850021</td>\n",
       "      <td>-0.705423</td>\n",
       "      <td>-0.013807</td>\n",
       "      <td>-0.344633</td>\n",
       "      <td>-0.376811</td>\n",
       "    </tr>\n",
       "    <tr>\n",
       "      <th>3</th>\n",
       "      <td>0.689831</td>\n",
       "      <td>-0.829409</td>\n",
       "      <td>1.241028</td>\n",
       "      <td>-0.414710</td>\n",
       "      <td>-0.336044</td>\n",
       "      <td>-0.302337</td>\n",
       "      <td>-0.303276</td>\n",
       "      <td>-0.417237</td>\n",
       "      <td>-0.705423</td>\n",
       "      <td>-0.013807</td>\n",
       "      <td>-0.344633</td>\n",
       "      <td>-0.376811</td>\n",
       "    </tr>\n",
       "    <tr>\n",
       "      <th>4</th>\n",
       "      <td>0.749714</td>\n",
       "      <td>-0.796858</td>\n",
       "      <td>0.206134</td>\n",
       "      <td>-0.777866</td>\n",
       "      <td>-0.790161</td>\n",
       "      <td>-0.481476</td>\n",
       "      <td>-0.804186</td>\n",
       "      <td>-0.001966</td>\n",
       "      <td>-0.705423</td>\n",
       "      <td>-0.013807</td>\n",
       "      <td>-0.344633</td>\n",
       "      <td>-0.376811</td>\n",
       "    </tr>\n",
       "  </tbody>\n",
       "</table>\n",
       "</div>"
      ],
      "text/plain": [
       "   longitude  latitude  housing_median_age  total_rooms  total_bedrooms  \\\n",
       "0   0.255683  0.147129           -0.828760    -0.646014       -0.543102   \n",
       "1   0.974273 -0.894511            0.604170    -0.587513       -0.731338   \n",
       "2  -0.083651 -0.564349            0.365349    -0.717565       -0.380750   \n",
       "3   0.689831 -0.829409            1.241028    -0.414710       -0.336044   \n",
       "4   0.749714 -0.796858            0.206134    -0.777866       -0.790161   \n",
       "\n",
       "   population  households  median_income  ocean_proximity_INLAND  \\\n",
       "0   -0.085303   -0.579551      -1.149582                1.417590   \n",
       "1   -0.784634   -0.742218       1.244613               -0.705423   \n",
       "2   -0.593438   -0.375572      -0.850021               -0.705423   \n",
       "3   -0.302337   -0.303276      -0.417237               -0.705423   \n",
       "4   -0.481476   -0.804186      -0.001966               -0.705423   \n",
       "\n",
       "   ocean_proximity_ISLAND  ocean_proximity_NEAR BAY  \\\n",
       "0               -0.013807                 -0.344633   \n",
       "1               -0.013807                 -0.344633   \n",
       "2               -0.013807                 -0.344633   \n",
       "3               -0.013807                 -0.344633   \n",
       "4               -0.013807                 -0.344633   \n",
       "\n",
       "   ocean_proximity_NEAR OCEAN  \n",
       "0                   -0.376811  \n",
       "1                   -0.376811  \n",
       "2                   -0.376811  \n",
       "3                   -0.376811  \n",
       "4                   -0.376811  "
      ]
     },
     "execution_count": 20,
     "metadata": {},
     "output_type": "execute_result"
    }
   ],
   "source": [
    "X_train = pd.DataFrame(X_train_imputed_scaled, columns=X_train.columns)\n",
    "X_test = pd.DataFrame(X_test_imputed_scaled, columns=X_test.columns)\n",
    "X_train.head()"
   ]
  },
  {
   "cell_type": "code",
   "execution_count": 21,
   "id": "66a27cdb",
   "metadata": {},
   "outputs": [
    {
     "data": {
      "text/plain": [
       "(np.int64(0), np.int64(0))"
      ]
     },
     "execution_count": 21,
     "metadata": {},
     "output_type": "execute_result"
    }
   ],
   "source": [
    "X_train[\"total_bedrooms\"].isna().sum(), X_test[\"total_bedrooms\"].isna().sum()"
   ]
  },
  {
   "cell_type": "markdown",
   "id": "49c8561a",
   "metadata": {},
   "source": [
    "Let's now shift our focus to the main topic of this demo which is validation and cross validation.  \n",
    "\n",
    "Validation sets are carved out of the training set. We could use the same `train_test_split()` function to carve out a single validation set, which is common practice in NNs/DL, because we can't afford to train and validate multiple times. But for classic ML we _can_! So let's take a look at the most common of these: k-fold CV."
   ]
  },
  {
   "cell_type": "code",
   "execution_count": 28,
   "id": "29e68ee4",
   "metadata": {},
   "outputs": [
    {
     "data": {
      "text/plain": [
       "0.6089233274539658"
      ]
     },
     "execution_count": 28,
     "metadata": {},
     "output_type": "execute_result"
    }
   ],
   "source": [
    "# train a linear regression model\n",
    "from sklearn.linear_model import LinearRegression\n",
    "model = LinearRegression()\n",
    "model.fit(X_train, y_train)\n",
    "\n",
    "# Evaluate the model\n",
    "from sklearn.metrics import r2_score\n",
    "y_pred = model.predict(X_test)\n",
    "r2 = r2_score(y_test, y_pred)\n",
    "r2"
   ]
  },
  {
   "cell_type": "markdown",
   "id": "a6bebebf",
   "metadata": {},
   "source": [
    "Okay, so we got an R-squared score of 60% with a simple linear regression model. But what was the training score?"
   ]
  },
  {
   "cell_type": "code",
   "execution_count": 29,
   "id": "02b95df9",
   "metadata": {},
   "outputs": [
    {
     "data": {
      "text/plain": [
       "0.6125719255669393"
      ]
     },
     "execution_count": 29,
     "metadata": {},
     "output_type": "execute_result"
    }
   ],
   "source": [
    "model.score(X_train, y_train)"
   ]
  },
  {
   "cell_type": "markdown",
   "id": "88848e58",
   "metadata": {},
   "source": [
    "62% is not far off from the 60% we got with the test set. But this is an extremely simple example and in more complex, real-world problems, there could be a much wider gap. Which is why we use k-fold cross-validation to get a more reliable estimate of what the test score might be. Let's see how the model would have done on 5-fold CV:"
   ]
  },
  {
   "cell_type": "code",
   "execution_count": 32,
   "id": "4d2ff676",
   "metadata": {},
   "outputs": [
    {
     "data": {
      "text/plain": [
       "array([0.61117885, 0.62704765, 0.60252854, 0.56943955, 0.63743161])"
      ]
     },
     "execution_count": 32,
     "metadata": {},
     "output_type": "execute_result"
    }
   ],
   "source": [
    "from sklearn.model_selection import cross_val_score\n",
    "\n",
    "\n",
    "r2_scores = cross_val_score(model, X_train, y_train, cv=5, scoring=\"r2\")\n",
    "r2_scores"
   ]
  },
  {
   "cell_type": "code",
   "execution_count": 33,
   "id": "1eb586cc",
   "metadata": {},
   "outputs": [
    {
     "data": {
      "text/plain": [
       "np.float64(0.6095252391119483)"
      ]
     },
     "execution_count": 33,
     "metadata": {},
     "output_type": "execute_result"
    }
   ],
   "source": [
    "r2_scores.mean()"
   ]
  },
  {
   "cell_type": "markdown",
   "id": "567d3756",
   "metadata": {},
   "source": [
    "We can see this is already much closer to what we actually got with the test set. That's because this score was obtained by training a model on 5 different subsets of the training data and evaluating it on a different validation set each time."
   ]
  },
  {
   "cell_type": "code",
   "execution_count": 40,
   "id": "00498311",
   "metadata": {},
   "outputs": [
    {
     "data": {
      "image/png": "[encoded data removed]",
      "text/plain": [
       "<Figure size 800x400 with 1 Axes>"
      ]
     },
     "metadata": {},
     "output_type": "display_data"
    }
   ],
   "source": [
    "plt.figure(figsize=(8, 4))\n",
    "plt.plot(range(1, 6), r2_scores, marker='o', linestyle='--', color='b')\n",
    "plt.title('Cross-Validation Scores')\n",
    "plt.xticks(ticks=range(1, 6), labels=range(1, 6))\n",
    "plt.xlabel('Fold')\n",
    "plt.ylabel('R-squared')\n",
    "plt.ylim([0, 1])\n",
    "plt.grid(True)\n",
    "plt.show()"
   ]
  }
 ],
 "metadata": {
  "kernelspec": {
   "display_name": "Python 3 (ipykernel)",
   "language": "python",
   "name": "python3"
  },
  "language_info": {
   "codemirror_mode": {
    "name": "ipython",
    "version": 3
   },
   "file_extension": ".py",
   "mimetype": "text/x-python",
   "name": "python",
   "nbconvert_exporter": "python",
   "pygments_lexer": "ipython3",
   "version": "3.10.6"
  }
 },
 "nbformat": 4,
 "nbformat_minor": 5
}
